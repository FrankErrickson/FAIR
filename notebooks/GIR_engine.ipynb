{
 "cells": [
  {
   "cell_type": "code",
   "execution_count": 1,
   "metadata": {},
   "outputs": [],
   "source": [
    "import numpy as np"
   ]
  },
  {
   "cell_type": "code",
   "execution_count": 2,
   "metadata": {},
   "outputs": [],
   "source": [
    "import fair\n",
    "from fair.unit_def import unit\n",
    "import numpy as np"
   ]
  },
  {
   "cell_type": "code",
   "execution_count": 3,
   "metadata": {},
   "outputs": [],
   "source": [
    "def calculate_alpha(cumulative_emissions,airborne_fraction,temperature,r0,rC,rT,g0,g1,iirf_max = 97.0*unit.year):\n",
    "    iirf = r0 + rC * (cumulative_emissions-airborne_fraction) + rT * temperature\n",
    "    iirf = np.abs(iirf)  # not sure I understand this - it should never be negative\n",
    "    iirf = (iirf>iirf_max) * iirf_max + iirf * (iirf<iirf_max)\n",
    "    alpha = g0 * np.sinh(iirf / g1)\n",
    "    return alpha\n",
    "\n",
    "def step_concentration(R_old,E,alpha,a,tau,PI_conc,emis2conc,dt=1):\n",
    "    R_new = E * emis2conc * a * alpha * (tau/dt) * (1. - np.exp(-dt/(alpha*tau))) + R_old * np.exp(-dt/(alpha*tau))\n",
    "    C = PI_conc + np.sum(R_new + R_old,axis=-1) / 2\n",
    "    G_A = np.sum(R_new,axis=-1) / emis2conc\n",
    "    return C,R_new,G_A"
   ]
  },
  {
   "cell_type": "code",
   "execution_count": 4,
   "metadata": {},
   "outputs": [],
   "source": [
    "# still AR5-like IR models - can we tune?\n",
    "a = np.array([0.217300, 0.224000, 0.282400, 0.276300])\n",
    "tau = np.array([1000000.000000, 394.400000, 36.540000, 4.304000])*unit.year\n",
    "r0 = 28.627296 * unit.year\n",
    "rC = 0.019773 * unit.year / unit.Gt\n",
    "rT = 4.334433 * unit.year / unit.K"
   ]
  },
  {
   "cell_type": "code",
   "execution_count": 5,
   "metadata": {},
   "outputs": [
    {
     "data": {
      "text/html": [
       "\\[28.627296\\ year\\]"
      ],
      "text/latex": [
       "$28.627296\\ \\mathrm{year}$"
      ],
      "text/plain": [
       "28.627296 <Unit('year')>"
      ]
     },
     "execution_count": 5,
     "metadata": {},
     "output_type": "execute_result"
    }
   ],
   "source": [
    "r0"
   ]
  },
  {
   "cell_type": "code",
   "execution_count": 6,
   "metadata": {},
   "outputs": [],
   "source": [
    "emis2conc = 0.468952 / unit.Gt * unit.ppm"
   ]
  },
  {
   "cell_type": "code",
   "execution_count": 7,
   "metadata": {},
   "outputs": [
    {
     "data": {
      "text/html": [
       "\\[0.468952\\ parts\\_per\\_million/gigametric\\_ton\\]"
      ],
      "text/latex": [
       "$0.468952\\ \\frac{\\mathrm{parts\\_per\\_million}}{\\mathrm{gigametric\\_ton}}$"
      ],
      "text/plain": [
       "0.468952 <Unit('parts_per_million / gigametric_ton')>"
      ]
     },
     "execution_count": 7,
     "metadata": {},
     "output_type": "execute_result"
    }
   ],
   "source": [
    "emis2conc"
   ]
  },
  {
   "cell_type": "code",
   "execution_count": 8,
   "metadata": {},
   "outputs": [],
   "source": [
    "emissions = np.ones(100)*10*unit.Gt\n",
    "C = np.zeros(100)*unit.ppm\n",
    "G_A = np.zeros(100)*unit.Gt\n",
    "alpha = np.zeros(100)\n",
    "\n",
    "iirf_horizon=100 * unit.year\n",
    "g1 = np.sum(a*tau * (1 - (1 + iirf_horizon/tau) * np.exp(-iirf_horizon/tau)), axis=-1)\n",
    "g0 = 1/(np.sinh(np.sum(a*tau*(1 - np.exp(-iirf_horizon/tau)) , axis=-1)/g1))"
   ]
  },
  {
   "cell_type": "code",
   "execution_count": 9,
   "metadata": {},
   "outputs": [
    {
     "data": {
      "text/plain": [
       "0.12426187618147522"
      ]
     },
     "execution_count": 9,
     "metadata": {},
     "output_type": "execute_result"
    }
   ],
   "source": [
    "alpha[0] = calculate_alpha(G=0*unit.Gt,G_A=0*unit.Gt,T=0*unit.K,r0=r0,rC=rC,rT=rT,g0=g0,g1=g1)\n",
    "alpha[0]"
   ]
  },
  {
   "cell_type": "code",
   "execution_count": 10,
   "metadata": {},
   "outputs": [],
   "source": [
    "G = np.cumsum(emissions)\n",
    "C[0],R,G_A[0] = step_concentration(\n",
    "    R_old = np.zeros(a.shape)*unit.ppm,\n",
    "    alpha=alpha[0],\n",
    "    E=emissions[0],\n",
    "    a=a,\n",
    "    tau=tau,\n",
    "    PI_conc=278*unit.ppm,\n",
    "    emis2conc=emis2conc,\n",
    "    dt=1*unit.year\n",
    ")"
   ]
  },
  {
   "cell_type": "code",
   "execution_count": 11,
   "metadata": {},
   "outputs": [
    {
     "data": {
      "text/html": [
       "\\[\\begin{pmatrix}279.91680764905425 & 0.0 & 0.0 & 0.0 & 0.0 & 0.0 & 0.0 & 0.0 & 0.0 & 0.0 & 0.0 & 0.0 & 0.0 & 0.0 & 0.0 & 0.0 & 0.0 & 0.0 & 0.0 & 0.0 & 0.0 & 0.0 & 0.0 & 0.0 & 0.0 & 0.0 & 0.0 & 0.0 & 0.0 & 0.0 & 0.0 & 0.0 & 0.0 & 0.0 & 0.0 & 0.0 & 0.0 & 0.0 & 0.0 & 0.0 & 0.0 & 0.0 & 0.0 & 0.0 & 0.0 & 0.0 & 0.0 & 0.0 & 0.0 & 0.0 & 0.0 & 0.0 & 0.0 & 0.0 & 0.0 & 0.0 & 0.0 & 0.0 & 0.0 & 0.0 & 0.0 & 0.0 & 0.0 & 0.0 & 0.0 & 0.0 & 0.0 & 0.0 & 0.0 & 0.0 & 0.0 & 0.0 & 0.0 & 0.0 & 0.0 & 0.0 & 0.0 & 0.0 & 0.0 & 0.0 & 0.0 & 0.0 & 0.0 & 0.0 & 0.0 & 0.0 & 0.0 & 0.0 & 0.0 & 0.0 & 0.0 & 0.0 & 0.0 & 0.0 & 0.0 & 0.0 & 0.0 & 0.0 & 0.0 & 0.0\\end{pmatrix} parts\\_per\\_million\\]"
      ],
      "text/latex": [
       "$\\begin{pmatrix}279.91680764905425 & 0.0 & 0.0 & 0.0 & 0.0 & 0.0 & 0.0 & 0.0 & 0.0 & 0.0 & 0.0 & 0.0 & 0.0 & 0.0 & 0.0 & 0.0 & 0.0 & 0.0 & 0.0 & 0.0 & 0.0 & 0.0 & 0.0 & 0.0 & 0.0 & 0.0 & 0.0 & 0.0 & 0.0 & 0.0 & 0.0 & 0.0 & 0.0 & 0.0 & 0.0 & 0.0 & 0.0 & 0.0 & 0.0 & 0.0 & 0.0 & 0.0 & 0.0 & 0.0 & 0.0 & 0.0 & 0.0 & 0.0 & 0.0 & 0.0 & 0.0 & 0.0 & 0.0 & 0.0 & 0.0 & 0.0 & 0.0 & 0.0 & 0.0 & 0.0 & 0.0 & 0.0 & 0.0 & 0.0 & 0.0 & 0.0 & 0.0 & 0.0 & 0.0 & 0.0 & 0.0 & 0.0 & 0.0 & 0.0 & 0.0 & 0.0 & 0.0 & 0.0 & 0.0 & 0.0 & 0.0 & 0.0 & 0.0 & 0.0 & 0.0 & 0.0 & 0.0 & 0.0 & 0.0 & 0.0 & 0.0 & 0.0 & 0.0 & 0.0 & 0.0 & 0.0 & 0.0 & 0.0 & 0.0 & 0.0\\end{pmatrix}\\ \\mathrm{parts\\_per\\_million}$"
      ],
      "text/plain": [
       "array([279.91680765,   0.        ,   0.        ,   0.        ,\n",
       "         0.        ,   0.        ,   0.        ,   0.        ,\n",
       "         0.        ,   0.        ,   0.        ,   0.        ,\n",
       "         0.        ,   0.        ,   0.        ,   0.        ,\n",
       "         0.        ,   0.        ,   0.        ,   0.        ,\n",
       "         0.        ,   0.        ,   0.        ,   0.        ,\n",
       "         0.        ,   0.        ,   0.        ,   0.        ,\n",
       "         0.        ,   0.        ,   0.        ,   0.        ,\n",
       "         0.        ,   0.        ,   0.        ,   0.        ,\n",
       "         0.        ,   0.        ,   0.        ,   0.        ,\n",
       "         0.        ,   0.        ,   0.        ,   0.        ,\n",
       "         0.        ,   0.        ,   0.        ,   0.        ,\n",
       "         0.        ,   0.        ,   0.        ,   0.        ,\n",
       "         0.        ,   0.        ,   0.        ,   0.        ,\n",
       "         0.        ,   0.        ,   0.        ,   0.        ,\n",
       "         0.        ,   0.        ,   0.        ,   0.        ,\n",
       "         0.        ,   0.        ,   0.        ,   0.        ,\n",
       "         0.        ,   0.        ,   0.        ,   0.        ,\n",
       "         0.        ,   0.        ,   0.        ,   0.        ,\n",
       "         0.        ,   0.        ,   0.        ,   0.        ,\n",
       "         0.        ,   0.        ,   0.        ,   0.        ,\n",
       "         0.        ,   0.        ,   0.        ,   0.        ,\n",
       "         0.        ,   0.        ,   0.        ,   0.        ,\n",
       "         0.        ,   0.        ,   0.        ,   0.        ,\n",
       "         0.        ,   0.        ,   0.        ,   0.        ]) <Unit('parts_per_million')>"
      ]
     },
     "execution_count": 11,
     "metadata": {},
     "output_type": "execute_result"
    }
   ],
   "source": [
    "C"
   ]
  },
  {
   "cell_type": "code",
   "execution_count": 12,
   "metadata": {},
   "outputs": [
    {
     "data": {
      "text/html": [
       "\\[\\begin{pmatrix}1.0190285956746667 & 1.0398080411441941 & 1.1886287811516334 & 0.5861498801379736\\end{pmatrix} parts\\_per\\_million\\]"
      ],
      "text/latex": [
       "$\\begin{pmatrix}1.0190285956746667 & 1.0398080411441941 & 1.1886287811516334 & 0.5861498801379736\\end{pmatrix}\\ \\mathrm{parts\\_per\\_million}$"
      ],
      "text/plain": [
       "array([1.0190286 , 1.03980804, 1.18862878, 0.58614988]) <Unit('parts_per_million')>"
      ]
     },
     "execution_count": 12,
     "metadata": {},
     "output_type": "execute_result"
    }
   ],
   "source": [
    "R"
   ]
  },
  {
   "cell_type": "code",
   "execution_count": 13,
   "metadata": {},
   "outputs": [],
   "source": [
    "# forcing here\n",
    "# temperature here\n",
    "\n",
    "for t in np.arange(1,100):\n",
    "    alpha[t] = calculate_alpha(G=G[t-1],G_A=G_A[t-1],T=0*unit.K,r0=r0,rC=rC,rT=rT,g0=g0,g1=g1)\n",
    "    C[t],R,G_A[t] = step_concentration(\n",
    "        R_old = R,\n",
    "        alpha=alpha[t],\n",
    "        E=emissions[t],\n",
    "        a=a,\n",
    "        tau=tau,\n",
    "        PI_conc=278*unit.ppm,\n",
    "        emis2conc=emis2conc,\n",
    "        dt=1*unit.year\n",
    "    )\n",
    "    # forcing_here\n",
    "    # temperature_here\n"
   ]
  },
  {
   "cell_type": "code",
   "execution_count": 14,
   "metadata": {},
   "outputs": [],
   "source": [
    "import matplotlib.pyplot as pl"
   ]
  },
  {
   "cell_type": "code",
   "execution_count": 15,
   "metadata": {},
   "outputs": [
    {
     "name": "stderr",
     "output_type": "stream",
     "text": [
      "/nfs/b0110/Users/mencsm/miniconda3/envs/openscm-graft/lib/python3.7/site-packages/numpy/core/_asarray.py:85: UnitStrippedWarning: The unit of the quantity is stripped when downcasting to ndarray.\n",
      "  return array(a, dtype, copy=False, order=order)\n"
     ]
    },
    {
     "data": {
      "text/plain": [
       "[<matplotlib.lines.Line2D at 0x7f8e57c5ff90>]"
      ]
     },
     "execution_count": 15,
     "metadata": {},
     "output_type": "execute_result"
    },
    {
     "data": {
      "image/png": "[encoded data removed]",
      "text/plain": [
       "<Figure size 432x288 with 1 Axes>"
      ]
     },
     "metadata": {
      "needs_background": "light"
     },
     "output_type": "display_data"
    }
   ],
   "source": [
    "pl.plot(C)"
   ]
  },
  {
   "cell_type": "code",
   "execution_count": 16,
   "metadata": {},
   "outputs": [
    {
     "data": {
      "text/html": [
       "\\[\\begin{pmatrix}8.174856484477022 & 14.752953502309754 & 20.734545269034676 & 26.339245183860395 & 31.65445586001177 & 36.73646902230115 & 41.628046797822094 & 46.36292526719325 & 50.96795862492366 & 55.46460220538912 & 59.87005285479756 & 64.19814412410015 & 68.46005091454289 & 72.66484399694937 & 76.81992624589672 & 80.93137584421737 & 85.00421642700874 & 89.04262989682219 & 93.05012426691228 & 97.02966622094999 & 100.98378597567529 & 104.91466038492194 & 108.82417893221925 & 112.7139962502016 & 116.58557401726235 & 120.4402144657385 & 124.27908725538089 & 128.10325109028742 & 131.91367116311926 & 135.71123328110158 & 139.49675534751017 & 143.2709967312274 & 147.0346659462408 & 150.78842697486343 & 154.53290450039142 & 158.26868826055548 & 161.9963366894797 & 165.71637998346876 & 169.42932269714856 & 173.13564595712435 & 176.83580936172382 & 180.53025262297896 & 184.21939699551456 & 187.90364652904276 & 191.5833891737024 & 195.25899776223562 & 198.93083088879132 & 202.59923369969974 & 206.26453861005032 & 209.92706595616636 & 213.58712459336616 & 217.24501244579136 & 220.9010170150258 & 224.55541585203048 & 228.20847699695662 & 231.8604593904477 & 235.51161325935092 & 239.1621804793275 & 242.81239491682325 & 246.46248275216394 & 250.112662785089 & 253.76314672496312 & 257.41413946594696 & 261.0658393487908 & 264.7184384101146 & 268.3721226199715 & 272.02707210850684 & 275.6834613822572 & 279.34145953103615 & 283.00123042538945 & 286.6629329058667 & 290.3267209641061 & 293.99274391596254 & 297.6611465679527 & 301.3320693762321 & 305.00564859937805 & 308.6820164448245 & 312.36130120947365 & 316.04362741445937 & 319.72911593467995 & 323.41788412323405 & 327.11004593079844 & 330.80571202045394 & 334.5049898778893 & 338.20798391753885 & 341.9147955844803 & 345.6255234523309 & 349.3402633176667 & 353.0591082905986 & 356.7821488820059 & 360.50947308748084 & 364.241166468251 & 367.9773122288787 & 371.71799129197814 & 375.4632823705166 & 379.21326203722646 & 382.968004791513 & 386.72758312367625 & 390.49206757724335 & 394.26152680863385\\end{pmatrix} gigametric\\_ton\\]"
      ],
      "text/latex": [
       "$\\begin{pmatrix}8.174856484477022 & 14.752953502309754 & 20.734545269034676 & 26.339245183860395 & 31.65445586001177 & 36.73646902230115 & 41.628046797822094 & 46.36292526719325 & 50.96795862492366 & 55.46460220538912 & 59.87005285479756 & 64.19814412410015 & 68.46005091454289 & 72.66484399694937 & 76.81992624589672 & 80.93137584421737 & 85.00421642700874 & 89.04262989682219 & 93.05012426691228 & 97.02966622094999 & 100.98378597567529 & 104.91466038492194 & 108.82417893221925 & 112.7139962502016 & 116.58557401726235 & 120.4402144657385 & 124.27908725538089 & 128.10325109028742 & 131.91367116311926 & 135.71123328110158 & 139.49675534751017 & 143.2709967312274 & 147.0346659462408 & 150.78842697486343 & 154.53290450039142 & 158.26868826055548 & 161.9963366894797 & 165.71637998346876 & 169.42932269714856 & 173.13564595712435 & 176.83580936172382 & 180.53025262297896 & 184.21939699551456 & 187.90364652904276 & 191.5833891737024 & 195.25899776223562 & 198.93083088879132 & 202.59923369969974 & 206.26453861005032 & 209.92706595616636 & 213.58712459336616 & 217.24501244579136 & 220.9010170150258 & 224.55541585203048 & 228.20847699695662 & 231.8604593904477 & 235.51161325935092 & 239.1621804793275 & 242.81239491682325 & 246.46248275216394 & 250.112662785089 & 253.76314672496312 & 257.41413946594696 & 261.0658393487908 & 264.7184384101146 & 268.3721226199715 & 272.02707210850684 & 275.6834613822572 & 279.34145953103615 & 283.00123042538945 & 286.6629329058667 & 290.3267209641061 & 293.99274391596254 & 297.6611465679527 & 301.3320693762321 & 305.00564859937805 & 308.6820164448245 & 312.36130120947365 & 316.04362741445937 & 319.72911593467995 & 323.41788412323405 & 327.11004593079844 & 330.80571202045394 & 334.5049898778893 & 338.20798391753885 & 341.9147955844803 & 345.6255234523309 & 349.3402633176667 & 353.0591082905986 & 356.7821488820059 & 360.50947308748084 & 364.241166468251 & 367.9773122288787 & 371.71799129197814 & 375.4632823705166 & 379.21326203722646 & 382.968004791513 & 386.72758312367625 & 390.49206757724335 & 394.26152680863385\\end{pmatrix}\\ \\mathrm{gigametric\\_ton}$"
      ],
      "text/plain": [
       "array([  8.17485648,  14.7529535 ,  20.73454527,  26.33924518,\n",
       "        31.65445586,  36.73646902,  41.6280468 ,  46.36292527,\n",
       "        50.96795862,  55.46460221,  59.87005285,  64.19814412,\n",
       "        68.46005091,  72.664844  ,  76.81992625,  80.93137584,\n",
       "        85.00421643,  89.0426299 ,  93.05012427,  97.02966622,\n",
       "       100.98378598, 104.91466038, 108.82417893, 112.71399625,\n",
       "       116.58557402, 120.44021447, 124.27908726, 128.10325109,\n",
       "       131.91367116, 135.71123328, 139.49675535, 143.27099673,\n",
       "       147.03466595, 150.78842697, 154.5329045 , 158.26868826,\n",
       "       161.99633669, 165.71637998, 169.4293227 , 173.13564596,\n",
       "       176.83580936, 180.53025262, 184.219397  , 187.90364653,\n",
       "       191.58338917, 195.25899776, 198.93083089, 202.5992337 ,\n",
       "       206.26453861, 209.92706596, 213.58712459, 217.24501245,\n",
       "       220.90101702, 224.55541585, 228.208477  , 231.86045939,\n",
       "       235.51161326, 239.16218048, 242.81239492, 246.46248275,\n",
       "       250.11266279, 253.76314672, 257.41413947, 261.06583935,\n",
       "       264.71843841, 268.37212262, 272.02707211, 275.68346138,\n",
       "       279.34145953, 283.00123043, 286.66293291, 290.32672096,\n",
       "       293.99274392, 297.66114657, 301.33206938, 305.0056486 ,\n",
       "       308.68201644, 312.36130121, 316.04362741, 319.72911593,\n",
       "       323.41788412, 327.11004593, 330.80571202, 334.50498988,\n",
       "       338.20798392, 341.91479558, 345.62552345, 349.34026332,\n",
       "       353.05910829, 356.78214888, 360.50947309, 364.24116647,\n",
       "       367.97731223, 371.71799129, 375.46328237, 379.21326204,\n",
       "       382.96800479, 386.72758312, 390.49206758, 394.26152681]) <Unit('gigametric_ton')>"
      ]
     },
     "execution_count": 16,
     "metadata": {},
     "output_type": "execute_result"
    }
   ],
   "source": [
    "G_A"
   ]
  },
  {
   "cell_type": "code",
   "execution_count": 17,
   "metadata": {},
   "outputs": [
    {
     "data": {
      "text/plain": [
       "[<matplotlib.lines.Line2D at 0x7f8e545b6d90>]"
      ]
     },
     "execution_count": 17,
     "metadata": {},
     "output_type": "execute_result"
    },
    {
     "data": {
      "image/png": "[encoded data removed]",
      "text/plain": [
       "<Figure size 432x288 with 1 Axes>"
      ]
     },
     "metadata": {
      "needs_background": "light"
     },
     "output_type": "display_data"
    }
   ],
   "source": [
    "pl.plot(G_A/G)"
   ]
  },
  {
   "cell_type": "code",
   "execution_count": null,
   "metadata": {},
   "outputs": [],
   "source": []
  }
 ],
 "metadata": {
  "kernelspec": {
   "display_name": "Python 3",
   "language": "python",
   "name": "python3"
  },
  "language_info": {
   "codemirror_mode": {
    "name": "ipython",
    "version": 3
   },
   "file_extension": ".py",
   "mimetype": "text/x-python",
   "name": "python",
   "nbconvert_exporter": "python",
   "pygments_lexer": "ipython3",
   "version": "3.7.7"
  }
 },
 "nbformat": 4,
 "nbformat_minor": 4
}
