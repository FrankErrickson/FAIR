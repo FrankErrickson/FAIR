{
 "cells": [
  {
   "cell_type": "code",
   "execution_count": 1,
   "metadata": {},
   "outputs": [],
   "source": [
    "import fair\n",
    "from fair.unit_def import unit\n",
    "\n",
    "from fair.species import GreenhouseGas, CO2, CH4, N2O\n",
    "from fair.forcing.ghg import etminan\n",
    "\n",
    "import numpy as np\n",
    "import matplotlib.pyplot as pl\n",
    "import pandas as pd"
   ]
  },
  {
   "cell_type": "code",
   "execution_count": 85,
   "metadata": {},
   "outputs": [],
   "source": [
    "def populate_gas_defaults(*requested_gases):\n",
    "    \"\"\"Fills in the scenario with specified gases.\n",
    "    \n",
    "    Args:\n",
    "        requested_gases: optional list of gases. If omitted, use all CMIP6 specified gases.\n",
    "    \"\"\"\n",
    "    gas_defaults = pd.read_csv('../fair/data/gas_defaults.csv')\n",
    "\n",
    "    gases = {}\n",
    "    if len(requested_gases)==0:\n",
    "        requested_gases=tuple(gas_defaults['name'])\n",
    "    elif len(requested_gases)==1 and isinstance(requested_gases[0], list):\n",
    "        requested_gases=tuple(requested_gases[0])\n",
    "\n",
    "    ref_unit_lookup = {\n",
    "        'ppm' : unit.ppm,\n",
    "        'ppb' : unit.ppb,\n",
    "        'ppt' : unit.ppt\n",
    "    }\n",
    "        \n",
    "    for index, gas in gas_defaults.iterrows():\n",
    "        if gas['name'] not in requested_gases:\n",
    "            continue\n",
    "        if gas['name'] not in ['CO2', 'CH4', 'N2O', 'CFC-12-eq', 'CFC-11-eq', 'HFC-134a-eq']:\n",
    "            gases[gas['name']] = GreenhouseGas(\n",
    "                radiative_efficiency=gas['radiative_efficiency_W_m-2_ppb-1'] * unit.watt / unit.m**2 / unit.ppb,\n",
    "                reference_concentration=gas['reference_concentration'] * ref_unit_lookup[gas['reference_concentration_unit']],\n",
    "                concentration_t0=0 * gas['reference_concentration'] * ref_unit_lookup[gas['reference_concentration_unit']],\n",
    "                molecular_weight=gas['molecular_weight_g_mol-1'] * unit.g / unit.mol,\n",
    "                name=gas['name']\n",
    "            )\n",
    "        elif gas['name']=='CO2':\n",
    "            gases[gas['name']] = CO2(\n",
    "                radiative_efficiency=gas['radiative_efficiency_W_m-2_ppb-1'] * unit.watt / unit.m**2 / unit.ppb,\n",
    "                reference_concentration=gas['reference_concentration'] * ref_unit_lookup[gas['reference_concentration_unit']],\n",
    "                concentration_t0=0 * gas['reference_concentration'] * ref_unit_lookup[gas['reference_concentration_unit']],\n",
    "                molecular_weight=gas['molecular_weight_g_mol-1'] * unit.g / unit.mol,\n",
    "                name=gas['name']\n",
    "            )\n",
    "        elif gas['name']=='CH4':\n",
    "            gases[gas['name']] = CH4(\n",
    "                radiative_efficiency=gas['radiative_efficiency_W_m-2_ppb-1'] * unit.watt / unit.m**2 / unit.ppb,\n",
    "                reference_concentration=gas['reference_concentration'] * ref_unit_lookup[gas['reference_concentration_unit']],\n",
    "                concentration_t0=0 * gas['reference_concentration'] * ref_unit_lookup[gas['reference_concentration_unit']],\n",
    "                molecular_weight=gas['molecular_weight_g_mol-1'] * unit.g / unit.mol,\n",
    "                name=gas['name']\n",
    "            )\n",
    "        elif gas['name']=='N2O':\n",
    "            gases[gas['name']] = N2O(\n",
    "                radiative_efficiency=gas['radiative_efficiency_W_m-2_ppb-1'] * unit.watt / unit.m**2 / unit.ppb,\n",
    "                reference_concentration=gas['reference_concentration'] * ref_unit_lookup[gas['reference_concentration_unit']],\n",
    "                concentration_t0=0 * gas['reference_concentration'] * ref_unit_lookup[gas['reference_concentration_unit']],\n",
    "                molecular_weight=gas['molecular_weight_g_mol-1'] * unit.g / unit.mol,\n",
    "                name=gas['name']\n",
    "            )\n",
    "    return gases"
   ]
  },
  {
   "cell_type": "code",
   "execution_count": 89,
   "metadata": {},
   "outputs": [
    {
     "name": "stdout",
     "output_type": "stream",
     "text": [
      "('CO2', 'N2O', 'CH4', 'CFC-12')\n"
     ]
    },
    {
     "name": "stderr",
     "output_type": "stream",
     "text": [
      "/nfs/see-fs-02_users/mencsm/.local/lib/python3.5/site-packages/pint/quantity.py:1377: UnitStrippedWarning: The unit of the quantity is stripped.\n",
      "  warnings.warn(\"The unit of the quantity is stripped.\", UnitStrippedWarning)\n"
     ]
    },
    {
     "data": {
      "text/plain": [
       "{'CFC-12': <fair.species.species.GreenhouseGas at 0x7fe250054da0>,\n",
       " 'CH4': <fair.species.species.CH4 at 0x7fe24d7395f8>,\n",
       " 'CO2': <fair.species.species.CO2 at 0x7fe24d739588>,\n",
       " 'N2O': <fair.species.species.N2O at 0x7fe250013828>}"
      ]
     },
     "execution_count": 89,
     "metadata": {},
     "output_type": "execute_result"
    }
   ],
   "source": [
    "gases = populate_gas_defaults(['CO2', 'N2O', 'CH4', 'CFC-12'])\n",
    "gases['CO2'].set_concentrations(np.linspace(278,415,1001) * unit.ppm)\n",
    "gases['N2O'].set_concentrations(np.linspace(272,500,1001) * unit.ppb)\n",
    "gases['CH4'].set_concentrations(np.linspace(791,1800,1001) * unit.ppb)\n",
    "gases['CFC-12'].set_emissions(np.ones(1000)*500 * unit.kt / unit.year, natural = 0.00 * unit.kt / unit.year)\n",
    "gases['CFC-12'].set_lifetime(100 * unit.years)\n",
    "gases['CFC-12'].calculate_concentrations()\n",
    "gases"
   ]
  },
  {
   "cell_type": "code",
   "execution_count": 91,
   "metadata": {},
   "outputs": [
    {
     "data": {
      "text/plain": [
       "[<matplotlib.lines.Line2D at 0x7fe24c354908>]"
      ]
     },
     "execution_count": 91,
     "metadata": {},
     "output_type": "execute_result"
    },
    {
     "data": {
      "image/png": "[encoded data removed]",
      "text/plain": [
       "<matplotlib.figure.Figure at 0x7fe24d803d68>"
      ]
     },
     "metadata": {
      "needs_background": "light"
     },
     "output_type": "display_data"
    }
   ],
   "source": [
    "pl.plot(gases['CFC-12'].time_bounds, gases['CFC-12'].concentrations.to('ppt'))"
   ]
  },
  {
   "cell_type": "code",
   "execution_count": 92,
   "metadata": {},
   "outputs": [],
   "source": [
    "class Scenario:    # I think this should probably be the base class - build Species off this, and then GHG, Aerosol etc\n",
    "    \n",
    "    def __init__(self, *args, temperature_t0=0 * unit.K, timestep=1*unit.year):\n",
    "        self.species = {}\n",
    "        self.add_species(*args)\n",
    "        self.temperature_t0 = temperature_t0\n",
    "        self.timestep = timestep\n",
    "        #super - to grab timestep\n",
    "        \n",
    "    def add_species(self, *args):\n",
    "        for arg in args:\n",
    "            for key, value in arg.items():\n",
    "                self.species[key] = value\n",
    "    \n",
    "    def calculate_forcing(self):\n",
    "        co2 = self.species['CO2']\n",
    "        ch4 = self.species['CH4']\n",
    "        n2o = self.species['N2O']\n",
    "        for species in self.species:\n",
    "            if type(self.species[species]) not in [CO2,CH4,N2O]:\n",
    "                self.species[species].calculate_forcing()\n",
    "        etminan(co2, ch4, n2o)\n",
    "        scen.effective_radiative_forcing = (sum([v.effective_radiative_forcing for v in self.species.values()]))\n",
    "        \n",
    "        \n",
    "    def calculate_temperature(self):\n",
    "        \"\"\"Calculate temperature from a given radiative forcing.\n",
    "        Inputs:\n",
    "            t0: Temperature in timestep t-1\n",
    "            q: The matrix contributions to slow and fast temperature change\n",
    "               calculated from ECS and TCR (2 element array)\n",
    "            d: The slow and fast thermal response time constants (2 element array)\n",
    "            f: radiative forcing (can be scalar or 1D array representing multiple\n",
    "           species)\n",
    "        Keywords:\n",
    "            e: efficacy factor (default 1); if f is an array, e should be an array\n",
    "               of the same length.\n",
    "        Outputs:\n",
    "            t1: slow and fast contributions to total temperature (2 element array)\n",
    "            in timestep t\n",
    "        \"\"\"\n",
    "        def _forward(t0, q, d, f, ts, e=1):\n",
    "            t1 = t0*np.exp(-ts/d) + q*(1.0-np.exp((-ts)/d))*np.sum(f*e)#*ts\n",
    "            return t1\n",
    "    \n",
    "        if hasattr(self.effective_radiative_forcing, '__len__'):\n",
    "            nt = len(self.effective_radiative_forcing)\n",
    "            effective_radiative_forcing = self.effective_radiative_forcing\n",
    "        elif np.isscalar(self.effective_radiative_forcing) and hasattr(self.time_bounds, '__len__'):\n",
    "            nt = len(self.time_bounds)\n",
    "            effective_radiative_forcing = self.effective_radiative_forcing * np.ones(nt)\n",
    "            \n",
    "        temperature = np.ones(nt) * np.nan * unit.K    \n",
    "        temperature[0] = self.temperature_t0\n",
    "\n",
    "        q = self._calculate_q()\n",
    "        nbox = len(q)\n",
    "        T_j = np.ones((nt, nbox)) * np.nan * unit.K\n",
    "        d=np.array([239, 4.1]) * unit.year\n",
    "        \n",
    "        T_j[0,:] = self.temperature_t0 # won't be true for restarts\n",
    "        \n",
    "        for t in range(nt-1):\n",
    "            T_j[t+1,:] = _forward(T_j[t,:], q, d, effective_radiative_forcing[t], self.timestep)\n",
    "\n",
    "        self.temperature = np.sum(T_j, axis=1)\n",
    "        \n",
    "    \n",
    "    def _calculate_q(self, tcr=1.75*unit.K, ecs=3*unit.K, d=np.array([239, 4.1]) * unit.year, f2x=4.00 * unit.W / unit.m**2, tcr_dbl=70 * unit.year):\n",
    "        \n",
    "        # TODO: GIR multi-box version\n",
    "        # for now this follows FaIR 1.5\n",
    "        \n",
    "        \"\"\"If TCR and ECS are supplied, calculate the q model coefficients.\n",
    "        See Eqs. (4) and (5) of Millar et al ACP (2017).\n",
    "\n",
    "        Inputs:\n",
    "            tcrecs  : 2-element array of transient climate response (TCR) and\n",
    "                      equilibrium climate sensitivity (ECS).\n",
    "            d       : The slow and fast thermal response time constants\n",
    "            f2x     : Effective radiative forcing from a doubling of CO2\n",
    "            tcr_dbl : time to a doubling of CO2 under 1% per year CO2 increase, yr\n",
    "            nt      : number of timesteps\n",
    "\n",
    "        Outputs:\n",
    "            q       : coefficients of slow and fast temperature change in each\n",
    "                      timestep ((nt, 2) array).\n",
    "        \"\"\"\n",
    "        \n",
    "        mat = np.ones(2) * np.nan * unit.K       \n",
    "        k = 1.0 - (d/tcr_dbl)*(1.0 - np.exp(-tcr_dbl/d))\n",
    "        mat[0] = tcr-ecs*k[1]\n",
    "        mat[1] = ecs*k[0]-tcr\n",
    "        \n",
    "        q  = (1.0 / f2x) * (1.0/(k[0]-k[1])) * mat\n",
    "        return q"
   ]
  },
  {
   "cell_type": "code",
   "execution_count": 108,
   "metadata": {},
   "outputs": [],
   "source": [
    "scen = Scenario()"
   ]
  },
  {
   "cell_type": "code",
   "execution_count": 109,
   "metadata": {},
   "outputs": [
    {
     "ename": "KeyError",
     "evalue": "'CO2'",
     "output_type": "error",
     "traceback": [
      "\u001b[0;31m---------------------------------------------------------------------------\u001b[0m",
      "\u001b[0;31mKeyError\u001b[0m                                  Traceback (most recent call last)",
      "\u001b[0;32m<ipython-input-109-c293913499be>\u001b[0m in \u001b[0;36m<module>\u001b[0;34m\u001b[0m\n\u001b[0;32m----> 1\u001b[0;31m \u001b[0mscen\u001b[0m\u001b[0;34m.\u001b[0m\u001b[0mcalculate_forcing\u001b[0m\u001b[0;34m(\u001b[0m\u001b[0;34m)\u001b[0m\u001b[0;34m\u001b[0m\u001b[0m\n\u001b[0m",
      "\u001b[0;32m<ipython-input-92-3434a6721de5>\u001b[0m in \u001b[0;36mcalculate_forcing\u001b[0;34m(self)\u001b[0m\n\u001b[1;32m     14\u001b[0m \u001b[0;34m\u001b[0m\u001b[0m\n\u001b[1;32m     15\u001b[0m     \u001b[0;32mdef\u001b[0m \u001b[0mcalculate_forcing\u001b[0m\u001b[0;34m(\u001b[0m\u001b[0mself\u001b[0m\u001b[0;34m)\u001b[0m\u001b[0;34m:\u001b[0m\u001b[0;34m\u001b[0m\u001b[0m\n\u001b[0;32m---> 16\u001b[0;31m         \u001b[0mco2\u001b[0m \u001b[0;34m=\u001b[0m \u001b[0mself\u001b[0m\u001b[0;34m.\u001b[0m\u001b[0mspecies\u001b[0m\u001b[0;34m[\u001b[0m\u001b[0;34m'CO2'\u001b[0m\u001b[0;34m]\u001b[0m\u001b[0;34m\u001b[0m\u001b[0m\n\u001b[0m\u001b[1;32m     17\u001b[0m         \u001b[0mch4\u001b[0m \u001b[0;34m=\u001b[0m \u001b[0mself\u001b[0m\u001b[0;34m.\u001b[0m\u001b[0mspecies\u001b[0m\u001b[0;34m[\u001b[0m\u001b[0;34m'CH4'\u001b[0m\u001b[0;34m]\u001b[0m\u001b[0;34m\u001b[0m\u001b[0m\n\u001b[1;32m     18\u001b[0m         \u001b[0mn2o\u001b[0m \u001b[0;34m=\u001b[0m \u001b[0mself\u001b[0m\u001b[0;34m.\u001b[0m\u001b[0mspecies\u001b[0m\u001b[0;34m[\u001b[0m\u001b[0;34m'N2O'\u001b[0m\u001b[0;34m]\u001b[0m\u001b[0;34m\u001b[0m\u001b[0m\n",
      "\u001b[0;31mKeyError\u001b[0m: 'CO2'"
     ]
    }
   ],
   "source": [
    "scen.calculate_forcing()"
   ]
  },
  {
   "cell_type": "code",
   "execution_count": 102,
   "metadata": {},
   "outputs": [
    {
     "data": {
      "text/plain": [
       "[<matplotlib.lines.Line2D at 0x7fe24c26ecf8>]"
      ]
     },
     "execution_count": 102,
     "metadata": {},
     "output_type": "execute_result"
    },
    {
     "data": {
      "image/png": "[encoded data removed]",
      "text/plain": [
       "<matplotlib.figure.Figure at 0x7fe24c2837f0>"
      ]
     },
     "metadata": {
      "needs_background": "light"
     },
     "output_type": "display_data"
    }
   ],
   "source": [
    "pl.plot(scen.effective_radiative_forcing)"
   ]
  },
  {
   "cell_type": "code",
   "execution_count": 103,
   "metadata": {},
   "outputs": [
    {
     "data": {
      "text/plain": [
       "[<matplotlib.lines.Line2D at 0x7fe24c234668>]"
      ]
     },
     "execution_count": 103,
     "metadata": {},
     "output_type": "execute_result"
    },
    {
     "data": {
      "image/png": "[encoded data removed]",
      "text/plain": [
       "<matplotlib.figure.Figure at 0x7fe24c200cf8>"
      ]
     },
     "metadata": {
      "needs_background": "light"
     },
     "output_type": "display_data"
    }
   ],
   "source": [
    "pl.plot(gases['CFC-12'].effective_radiative_forcing)"
   ]
  },
  {
   "cell_type": "code",
   "execution_count": 105,
   "metadata": {},
   "outputs": [
    {
     "data": {
      "text/plain": [
       "[<matplotlib.lines.Line2D at 0x7fe24c178b70>]"
      ]
     },
     "execution_count": 105,
     "metadata": {},
     "output_type": "execute_result"
    },
    {
     "data": {
      "image/png": "[encoded data removed]",
      "text/plain": [
       "<matplotlib.figure.Figure at 0x7fe24c1ba160>"
      ]
     },
     "metadata": {
      "needs_background": "light"
     },
     "output_type": "display_data"
    }
   ],
   "source": [
    "pl.plot(gases['CO2'].effective_radiative_forcing)"
   ]
  },
  {
   "cell_type": "code",
   "execution_count": 106,
   "metadata": {},
   "outputs": [
    {
     "data": {
      "text/plain": [
       "[<matplotlib.lines.Line2D at 0x7fe24c150d68>]"
      ]
     },
     "execution_count": 106,
     "metadata": {},
     "output_type": "execute_result"
    },
    {
     "data": {
      "image/png": "[encoded data removed]",
      "text/plain": [
       "<matplotlib.figure.Figure at 0x7fe24c1dc898>"
      ]
     },
     "metadata": {
      "needs_background": "light"
     },
     "output_type": "display_data"
    }
   ],
   "source": [
    "scen.calculate_temperature()\n",
    "pl.plot(scen.temperature)"
   ]
  },
  {
   "cell_type": "code",
   "execution_count": 107,
   "metadata": {},
   "outputs": [
    {
     "data": {
      "text/plain": [
       "[<matplotlib.lines.Line2D at 0x7fe24c37afd0>]"
      ]
     },
     "execution_count": 107,
     "metadata": {},
     "output_type": "execute_result"
    },
    {
     "data": {
      "image/png": "[encoded data removed]",
      "text/plain": [
       "<matplotlib.figure.Figure at 0x7fe24c1ba668>"
      ]
     },
     "metadata": {
      "needs_background": "light"
     },
     "output_type": "display_data"
    }
   ],
   "source": [
    "pl.plot(gases['CO2'].concentrations)"
   ]
  },
  {
   "cell_type": "code",
   "execution_count": null,
   "metadata": {},
   "outputs": [],
   "source": []
  }
 ],
 "metadata": {
  "kernelspec": {
   "display_name": "Python 3",
   "language": "python",
   "name": "python3"
  },
  "language_info": {
   "codemirror_mode": {
    "name": "ipython",
    "version": 3
   },
   "file_extension": ".py",
   "mimetype": "text/x-python",
   "name": "python",
   "nbconvert_exporter": "python",
   "pygments_lexer": "ipython3",
   "version": "3.5.2"
  }
 },
 "nbformat": 4,
 "nbformat_minor": 2
}
