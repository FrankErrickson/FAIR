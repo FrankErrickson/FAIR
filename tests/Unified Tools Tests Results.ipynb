{
 "cells": [
  {
   "cell_type": "markdown",
   "metadata": {},
   "source": [
    "# Test Solution Notebook\n",
    "The following Jupyter Notebook calculates the 'answers' that should be seen for the tests for FaIR 2.0 (specifically the unified functions as part of unifiedtools), it uses the GIR software previously developed by Nick Leach and Stewart Jenkins."
   ]
  },
  {
   "cell_type": "markdown",
   "metadata": {},
   "source": [
    "## Setup\n",
    "The following dependencies are required"
   ]
  },
  {
   "cell_type": "code",
   "execution_count": 1,
   "metadata": {},
   "outputs": [],
   "source": [
    "import numpy as np\n",
    "import string\n",
    "import math\n",
    "import sys\n",
    "import pandas as pd\n",
    "import matplotlib.pyplot as plt\n",
    "import matplotlib\n",
    "import seaborn as sn\n",
    "from GIR import *\n",
    "import scipy as sp\n",
    "import pickle\n",
    "import time\n",
    "import scipy as sp"
   ]
  },
  {
   "cell_type": "markdown",
   "metadata": {},
   "source": [
    "## Calculate Alpha Test\n",
    "The results of this test are for two species: CO2 and CH4"
   ]
  },
  {
   "cell_type": "markdown",
   "metadata": {},
   "source": [
    "### Setup\n",
    "This sets up the scenario to run"
   ]
  },
  {
   "cell_type": "code",
   "execution_count": 2,
   "metadata": {},
   "outputs": [],
   "source": [
    "#Based on CO2\n",
    "G_1 = 619\n",
    "G_A_1 = 259\n",
    "T_1 = 1.24068\n",
    "r0_1 = 28.63\n",
    "rC_1 = 0.019773\n",
    "rT_1 = 4.334433\n",
    "rA_1 = 0\n",
    "g0_1 = 0.020369508\n",
    "g1_1 = 11.4137078\n",
    "\n",
    "#Based on CH4\n",
    "G_2 = 34000\n",
    "G_A_2 = 3100\n",
    "T_2 = 1.24068\n",
    "r0_2 = 8.444641\n",
    "rC_2 = 0\n",
    "rT_2 = -0.287247\n",
    "rA_2 = 0.000343\n",
    "g0_2 = 0.850699166\n",
    "g1_2 = 9.148042797\n",
    "\n",
    "iirf100_max = 15\n",
    "\n",
    "alpha_no_max_out = calculate_alpha( np.array([G_1, G_2]),\\\n",
    "                                    np.array([G_A_1, G_A_2]),\\\n",
    "                                    np.array([T_1, T_2]),\\\n",
    "                                    np.array([[r0_1, rC_1, rT_1, rA_1],\\\n",
    "                                              [r0_2, rC_2, rT_2, rA_2]\n",
    "                                             ]),\\\n",
    "                                    np.array([g0_1, g0_2]),\\\n",
    "                                    np.array([g1_1, g1_2])\n",
    "                                  )\n",
    "alpha_with_max_out = calculate_alpha( np.array([G_1, G_2]),\\\n",
    "                                      np.array([G_A_1, G_A_2]),\\\n",
    "                                      np.array([T_1, T_2]),\\\n",
    "                                      np.array([[r0_1, rC_1, rT_1, rA_1],\\\n",
    "                                                [r0_2, rC_2, rT_2, rA_2]\n",
    "                                               ]),\\\n",
    "                                      np.array([g0_1, g0_2]),\\\n",
    "                                      np.array([g1_1, g1_2]),\\\n",
    "                                      iirf100_max\n",
    "                                    )"
   ]
  },
  {
   "cell_type": "markdown",
   "metadata": {},
   "source": [
    "### Results\n",
    "The following are the results of the single gas run:"
   ]
  },
  {
   "cell_type": "code",
   "execution_count": 3,
   "metadata": {},
   "outputs": [
    {
     "name": "stdout",
     "output_type": "stream",
     "text": [
      "alpha_no_max_out:\n",
      "[0.74788084 2.31332918]\n",
      "alpha_with_max_out:\n",
      "[0.07581137 2.31332918]\n"
     ]
    }
   ],
   "source": [
    "print('alpha_no_max_out:')\n",
    "print(alpha_no_max_out)\n",
    "print('alpha_with_max_out:')\n",
    "print(alpha_with_max_out)"
   ]
  },
  {
   "cell_type": "markdown",
   "metadata": {},
   "source": [
    "## Calculate g test\n",
    "The results of this test are for a dual species run, calculating g0 and g1"
   ]
  },
  {
   "cell_type": "markdown",
   "metadata": {},
   "source": [
    "### Setup\n",
    "This sets up the scenario to run"
   ]
  },
  {
   "cell_type": "code",
   "execution_count": 4,
   "metadata": {},
   "outputs": [],
   "source": [
    "a1 = np.array([0.2173,1])\n",
    "a2 = np.array([0.224,0])\n",
    "a3 = np.array([0.2824,0])\n",
    "a4 = np.array([0.2763,0])\n",
    "tau1 = np.array([1000000,9.15])\n",
    "tau2 = np.array([394.4,1])\n",
    "tau3 = np.array([36.54,1])\n",
    "tau4 = np.array([4.304,1])\n",
    "\n",
    "a = np.array([a1, a2, a3, a4]).T\n",
    "tau = np.array([tau1, tau2, tau3, tau4]).T\n",
    "\n",
    "\n",
    "\n",
    "\n",
    "g1_out = np.sum( a * tau * ( 1. - ( 1. + 100/tau ) * np.exp(-100/tau) ), axis=-1 )\n",
    "g0_out = np.exp( -1 * np.sum( a * tau * ( 1. - np.exp(-100/tau) ) , axis=-1) / g1_out ) "
   ]
  },
  {
   "cell_type": "markdown",
   "metadata": {},
   "source": [
    "### Results\n",
    "The following are the results of the dual gas run:"
   ]
  },
  {
   "cell_type": "code",
   "execution_count": 5,
   "metadata": {},
   "outputs": [
    {
     "name": "stdout",
     "output_type": "stream",
     "text": [
      "g0_out:\n",
      "[0.0101837  0.36780734]\n",
      "g1_out:\n",
      "[11.4137078  9.1480428]\n"
     ]
    }
   ],
   "source": [
    "print('g0_out:')\n",
    "print(g0_out)\n",
    "print('g1_out:')\n",
    "print(g1_out)"
   ]
  },
  {
   "cell_type": "markdown",
   "metadata": {},
   "source": [
    "## Step Concentration Test\n",
    "The results of this test are for a dual species run of Step Concentration"
   ]
  },
  {
   "cell_type": "markdown",
   "metadata": {},
   "source": [
    "### Setup\n",
    "This sets up the scenario to run"
   ]
  },
  {
   "cell_type": "code",
   "execution_count": 6,
   "metadata": {},
   "outputs": [],
   "source": [
    "E = np.array([10.2123, 361])\n",
    "a1 = np.array([0.2173,1])\n",
    "a2 = np.array([0.224,0])\n",
    "a3 = np.array([0.2824,0])\n",
    "a4 = np.array([0.2763,0])\n",
    "tau1 = np.array([1000000,9.15])\n",
    "tau2 = np.array([394.4,1])\n",
    "tau3 = np.array([36.54,1])\n",
    "tau4 = np.array([4.304,1])\n",
    "a = np.array([a1, a2, a3, a4]).T\n",
    "tau = np.array([tau1, tau2, tau3, tau4]).T\n",
    "alpha = np.array([0.74788084, 2.31332918])\n",
    "dt = 10\n",
    "R_1 = np.array([63.10423371, 1091.54903])\n",
    "R_2 = np.array([42.23272521, 0])\n",
    "R_3 = np.array([14.23992555, 0])\n",
    "R_4 = np.array([2.040457847, 0])\t\n",
    "R_old = np.array([R_1, R_2, R_3, R_4]).T\n",
    "G_A_old = np.array([[259.3, 3104]])\n",
    "PI_conc = np.array([[278, 720]])\n",
    "emis2conc = np.array([[[0.468952344,0.351714258]]])\n",
    "\n",
    "C_out, R_out, G_A_out = step_concentration(R_old[np.newaxis,np.newaxis,np.newaxis,...],G_A_old[np.newaxis,np.newaxis,np.newaxis,...],E[...,np.newaxis],alpha[...,np.newaxis],a[np.newaxis,np.newaxis,np.newaxis,...],tau[np.newaxis,np.newaxis,np.newaxis,...],PI_conc[np.newaxis,np.newaxis,np.newaxis,...],emis2conc[np.newaxis,np.newaxis,np.newaxis,...],dt)"
   ]
  },
  {
   "cell_type": "markdown",
   "metadata": {},
   "source": [
    "### Results\n",
    "The following are the results of the step concentration function"
   ]
  },
  {
   "cell_type": "code",
   "execution_count": 7,
   "metadata": {},
   "outputs": [
    {
     "name": "stdout",
     "output_type": "stream",
     "text": [
      "C_out:\n",
      "[[[[[[ 383.68002648 1891.49581172]]]]]]\n",
      "\n",
      "\n",
      "R_out:\n",
      "[[[[[  85.29456948   63.31706123   34.02781502    8.76744519]\n",
      "    [3557.63389782    0.            0.            0.        ]]]]]\n",
      "\n",
      "\n",
      "G_A_out:\n",
      "[[[[ 191.40689091 3557.63389782]]]]\n"
     ]
    }
   ],
   "source": [
    "print('C_out:')\n",
    "print(C_out)\n",
    "print('\\n')\n",
    "print('R_out:')\n",
    "print(R_out)\n",
    "print('\\n')\n",
    "print('G_A_out:')\n",
    "print(G_A_out)"
   ]
  },
  {
   "cell_type": "markdown",
   "metadata": {},
   "source": [
    "## Step Forcing Test\n",
    "The results of this test are for a dual species run of Step Forcing with 2 gasses"
   ]
  },
  {
   "cell_type": "markdown",
   "metadata": {},
   "source": [
    "### Setup\n",
    "This sets up the scenario to run"
   ]
  },
  {
   "cell_type": "code",
   "execution_count": 8,
   "metadata": {},
   "outputs": [],
   "source": [
    "C = np.array([399.6,1811])\n",
    "PI_conc = np.array([278, 720])\n",
    "f1 = np.array([5.754389, 0.061736])\n",
    "f2 = np.array([0.001215, -0.000049])\n",
    "f3 = np.array([-0.069598, 0.038416])\n",
    "f = np.array([f1, f2, f3]).T\n",
    "\n",
    "\n",
    "RF_out = step_forcing(C,PI_conc,f)"
   ]
  },
  {
   "cell_type": "markdown",
   "metadata": {},
   "source": [
    "### Results\n",
    "The following are the results of the step forcing function"
   ]
  },
  {
   "cell_type": "code",
   "execution_count": 9,
   "metadata": {},
   "outputs": [
    {
     "name": "stdout",
     "output_type": "stream",
     "text": [
      "RF_out:\n",
      "[2.0048501  0.60750117]\n"
     ]
    }
   ],
   "source": [
    "print('RF_out:')\n",
    "print(RF_out)"
   ]
  },
  {
   "cell_type": "markdown",
   "metadata": {},
   "source": [
    "## Step Temperature Test\n",
    "The results of this test are for a dual species run of Step Temperature with 2 gasses"
   ]
  },
  {
   "cell_type": "markdown",
   "metadata": {},
   "source": [
    "### Setup\n",
    "This sets up the scenario to run"
   ]
  },
  {
   "cell_type": "code",
   "execution_count": 10,
   "metadata": {},
   "outputs": [],
   "source": [
    "d = np.array([  283, 9.88, 0.85])\n",
    "q = np.array([  0.311333, 0.165417, 0.242])\n",
    "F = np.array([2.870])\n",
    "S_old = np.array([0.173196459, 1.06749276, 2])\n",
    "dt = 10\n",
    "S_out, T_out = step_temperature(S_old[np.newaxis,np.newaxis,np.newaxis,...],F[np.newaxis,np.newaxis,np.newaxis,...],q[np.newaxis,np.newaxis,np.newaxis,...],d[np.newaxis,np.newaxis,np.newaxis,...],dt)"
   ]
  },
  {
   "cell_type": "markdown",
   "metadata": {},
   "source": [
    "### Results\n",
    "The following are the results of the step forcing function"
   ]
  },
  {
   "cell_type": "code",
   "execution_count": 11,
   "metadata": {},
   "outputs": [
    {
     "name": "stdout",
     "output_type": "stream",
     "text": [
      "S_out:\n",
      "[[[[0.19820533 0.69017337 0.69455015]]]]\n",
      "T_out:\n",
      "[[[2.41180904]]]\n"
     ]
    }
   ],
   "source": [
    "print('S_out:')\n",
    "print(S_out)\n",
    "print('T_out:')\n",
    "print(T_out)"
   ]
  },
  {
   "cell_type": "markdown",
   "metadata": {},
   "source": [
    "## Unstep Concentration Test\n",
    "The results of this test are for a dual species run of Unstep Concentration with 2 gasses"
   ]
  },
  {
   "cell_type": "code",
   "execution_count": 13,
   "metadata": {},
   "outputs": [],
   "source": [
    "a1 = np.array([0.2173,1])\n",
    "a2 = np.array([0.224,0])\n",
    "a3 = np.array([0.2824,0])\n",
    "a4 = np.array([0.2763,0])\n",
    "tau1 = np.array([1000000,9.15])\n",
    "tau2 = np.array([394.4,1])\n",
    "tau3 = np.array([36.54,1])\n",
    "tau4 = np.array([4.304,1])\n",
    "a = np.array([a1, a2, a3, a4]).T\n",
    "tau = np.array([tau1, tau2, tau3, tau4]).T\n",
    "alpha = np.array([0.74788084, 2.31332918])\n",
    "dt = 10\n",
    "R_1 = np.array([63.10423371, 1091.54903])\n",
    "R_2 = np.array([42.23272521, 0])\n",
    "R_3 = np.array([14.23992555, 0])\n",
    "R_4 = np.array([2.040457847, 0])\t\n",
    "R_old = np.array([R_1, R_2, R_3, R_4]).T\n",
    "G_A = np.array([[259.3, 3104]])\n",
    "PI_conc = np.array([[278, 720]])\n",
    "emis2conc = np.array([[[0.468952344,0.351714258]]])\n",
    "\n",
    "\n",
    "\n",
    "E_out, R_out = unstep_concentration(R_old[np.newaxis,np.newaxis,np.newaxis,...],G_A[np.newaxis,np.newaxis,np.newaxis,...],alpha[...,np.newaxis],a[np.newaxis,np.newaxis,np.newaxis,...],tau[np.newaxis,np.newaxis,np.newaxis,...],PI_conc[np.newaxis,np.newaxis,np.newaxis,...],emis2conc[np.newaxis,np.newaxis,np.newaxis,...],dt)"
   ]
  },
  {
   "cell_type": "markdown",
   "metadata": {},
   "source": [
    "### Results\n",
    "The following are the results of the step concentration function"
   ]
  },
  {
   "cell_type": "code",
   "execution_count": 14,
   "metadata": {},
   "outputs": [
    {
     "name": "stdout",
     "output_type": "stream",
     "text": [
      "E_out:\n",
      "[[[[[ 19.15739779 304.0803832 ]]]]]\n",
      "R_out:\n",
      "[[[[[[ 104.73213702   83.01823459   55.18263368   16.36699471]\n",
      "     [3104.            0.            0.            0.        ]]]]]]\n"
     ]
    }
   ],
   "source": [
    "print('E_out:')\n",
    "print(E_out)\n",
    "print('R_out:')\n",
    "print(R_out)"
   ]
  },
  {
   "cell_type": "code",
   "execution_count": null,
   "metadata": {},
   "outputs": [],
   "source": []
  }
 ],
 "metadata": {
  "kernelspec": {
   "display_name": "Python 3",
   "language": "python",
   "name": "python3"
  },
  "language_info": {
   "codemirror_mode": {
    "name": "ipython",
    "version": 3
   },
   "file_extension": ".py",
   "mimetype": "text/x-python",
   "name": "python",
   "nbconvert_exporter": "python",
   "pygments_lexer": "ipython3",
   "version": "3.7.4"
  }
 },
 "nbformat": 4,
 "nbformat_minor": 4
}
