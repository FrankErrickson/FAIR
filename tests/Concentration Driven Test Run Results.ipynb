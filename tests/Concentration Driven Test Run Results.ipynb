{
 "cells": [
  {
   "cell_type": "markdown",
   "metadata": {},
   "source": [
    "# Test Solution Notebook\n",
    "The following Jupyter Notebook calculates the 'answers' that should be seen for the tests for FaIR 2.0 (specifically the numpy functions that run beneath the runners), it uses the GIR software previously developed by Nick Leach and Stewart Jenkins."
   ]
  },
  {
   "cell_type": "markdown",
   "metadata": {},
   "source": [
    "## Setup\n",
    "The following dependencies are required"
   ]
  },
  {
   "cell_type": "code",
   "execution_count": 1,
   "metadata": {},
   "outputs": [],
   "source": [
    "import numpy as np\n",
    "import string\n",
    "import math\n",
    "import sys\n",
    "import pandas as pd\n",
    "import matplotlib.pyplot as plt\n",
    "import matplotlib\n",
    "import seaborn as sn\n",
    "from GIR import *\n",
    "import scipy as sp\n",
    "import pickle\n",
    "import time\n",
    "import scipy as sp"
   ]
  },
  {
   "cell_type": "markdown",
   "metadata": {},
   "source": [
    "## Single Species Test\n",
    "The results of this test are for a single species, with 3 thermal boxes and an external forcing. The exemplar species used is CO2, but any species could be used."
   ]
  },
  {
   "cell_type": "markdown",
   "metadata": {},
   "source": [
    "### Setup\n",
    "This sets up the scenario to run"
   ]
  },
  {
   "cell_type": "code",
   "execution_count": 5,
   "metadata": {},
   "outputs": [
    {
     "name": "stderr",
     "output_type": "stream",
     "text": [
      "100%|██████████| 4/4 [00:00<00:00, 1271.00 timestep/s]\n"
     ]
    }
   ],
   "source": [
    "concentrations_in = return_empty_emissions(start_year = 2020, end_year = 2024, gases_in = ['CO2'])\n",
    "concentrations_in.index = [2020, 2021, 2023, 2027, 2035]\n",
    "concentrations_in.loc[2020] = 399.6173423\n",
    "concentrations_in.loc[2021] = 401.8213271\n",
    "concentrations_in.loc[2023] = 406.3410747\n",
    "concentrations_in.loc[2027] = 415.7639971\n",
    "concentrations_in.loc[2035] = 435.6164218\n",
    "thermal_parameters = pd.DataFrame([[ 283, 9.88, 0.85],[0.311333, 0.165417, 0.242]],index=['d','q'],columns=pd.MultiIndex.from_product([['default'],[1,2,3]]))\n",
    "gas_param_list = ['a1', 'a2', 'a3', 'a4', 'tau1', 'tau2', 'tau3', 'tau4', 'r0', 'rC', 'rT', 'rA', 'PI_conc', 'emis2conc', 'f1', 'f2', 'f3']\n",
    "gas_parameters = pd.DataFrame(index=gas_param_list,columns=pd.MultiIndex.from_product([[0],[\"CO2\"]],names=['Scenario','Gas'])).fillna(0).apply(pd.to_numeric)\n",
    "gas_parameters.loc['a1'] = 0.2173\n",
    "gas_parameters.loc['a2'] = 0.224\n",
    "gas_parameters.loc['a3'] = 0.2824\n",
    "gas_parameters.loc['a4'] = 0.2763\n",
    "gas_parameters.loc['tau1'] = 1000000\n",
    "gas_parameters.loc['tau2'] = 394.4\n",
    "gas_parameters.loc['tau3'] = 36.54\n",
    "gas_parameters.loc['tau4'] = 4.304\n",
    "gas_parameters.loc['r0'] = 28.627296\n",
    "gas_parameters.loc['rC'] = 0.019773\n",
    "gas_parameters.loc['rT'] = 4.334433\n",
    "gas_parameters.loc['rA'] = 0\n",
    "gas_parameters.loc['PI_conc'] = 278\n",
    "gas_parameters.loc['emis2conc'] = 0.468952343952344\n",
    "gas_parameters.loc['f1'] = 5.754389\n",
    "gas_parameters.loc['f2'] = 0.001215\n",
    "gas_parameters.loc['f3'] = -0.069598\n",
    "forcing_in = return_empty_forcing(df_to_copy = concentrations_in)\n",
    "forcing_in.index.rename('Year',inplace = True)\n",
    "forcing_in.loc[2020] = -0.256119925\n",
    "forcing_in.loc[2021] = -0.304324144\n",
    "forcing_in.loc[2023] = -0.501633962\n",
    "forcing_in.loc[2027] = -0.904262779\n",
    "forcing_in.loc[2035] = -0.12278275\n",
    "df_out = run_GIR( concentrations_in = concentrations_in, forcing_in = forcing_in , gas_parameters = gas_parameters , thermal_parameters = thermal_parameters, show_run_info = False)"
   ]
  },
  {
   "cell_type": "markdown",
   "metadata": {},
   "source": [
    "### Results\n",
    "The following are the results of the single gas run:"
   ]
  },
  {
   "cell_type": "code",
   "execution_count": 6,
   "metadata": {},
   "outputs": [
    {
     "name": "stdout",
     "output_type": "stream",
     "text": [
      "E_out:\n",
      "Scenario              0\n",
      "Thermal set     default\n",
      "Gas name            CO2\n",
      "Year                   \n",
      "2020         319.828087\n",
      "2021          46.772580\n",
      "2023          23.792089\n",
      "2027          18.293743\n",
      "2035          18.238578\n",
      "\n",
      "\n",
      "T_out:\n",
      "Scenario            0\n",
      "Thermal set   default\n",
      "Year                 \n",
      "2020         0.161252\n",
      "2021         0.405198\n",
      "2023         0.512490\n",
      "2027         0.531526\n",
      "2035         0.719456\n",
      "\n",
      "\n",
      "RF_out:\n",
      "Scenario                  0                    \n",
      "Thermal set         default                    \n",
      "Forcing component       CO2  External     Total\n",
      "Year                                           \n",
      "2020               2.005091 -0.256120  1.748971\n",
      "2021               2.035587 -0.304324  1.731263\n",
      "2023               2.097619 -0.501634  1.595985\n",
      "2027               2.224813 -0.904263  1.320550\n",
      "2035               2.483857 -0.122783  2.361074\n",
      "\n",
      "\n",
      "alpha_out:\n",
      "Scenario            0\n",
      "Thermal set   default\n",
      "Gas name          CO2\n",
      "Year                 \n",
      "2020         0.125078\n",
      "2021         0.156356\n",
      "2023         0.178314\n",
      "2027         0.184508\n",
      "2035         0.179664\n"
     ]
    }
   ],
   "source": [
    "print('E_out:')\n",
    "print(df_out['Emissions'])\n",
    "print('\\n')\n",
    "print('T_out:')\n",
    "print(df_out['T'])\n",
    "print('\\n')\n",
    "print('RF_out:')\n",
    "print(df_out['RF'])\n",
    "print('\\n')\n",
    "print('alpha_out:')\n",
    "print(df_out['alpha'])"
   ]
  },
  {
   "cell_type": "markdown",
   "metadata": {},
   "source": [
    "## Dual Species Test\n",
    "The results of this test are for a dual species run, with 3 thermal boxes and an external forcing. The exemplar species used are CO2 and CH4, but any species could be used."
   ]
  },
  {
   "cell_type": "markdown",
   "metadata": {},
   "source": [
    "### Setup\n",
    "This sets up the scenario to run"
   ]
  },
  {
   "cell_type": "code",
   "execution_count": 9,
   "metadata": {},
   "outputs": [
    {
     "name": "stderr",
     "output_type": "stream",
     "text": [
      "100%|██████████| 4/4 [00:00<00:00, 2797.14 timestep/s]\n"
     ]
    }
   ],
   "source": [
    "concentrations_in = return_empty_emissions(start_year = 2020, end_year = 2024, gases_in = ['CO2', 'CH4'])\n",
    "concentrations_in.index = [2020, 2021, 2023, 2027, 2035]\n",
    "concentrations_in.loc[2020] = [399.6173423, 733.822081]\n",
    "concentrations_in.loc[2021] = [401.8213271, 738.822081]\n",
    "concentrations_in.loc[2023] = [406.3410747, 750.822081]\n",
    "concentrations_in.loc[2027] = [415.7639971, 780.822081]\n",
    "concentrations_in.loc[2035] = [435.6164218, 850.822081]\n",
    "thermal_parameters = pd.DataFrame([[ 283, 9.88, 0.85],[0.311333, 0.165417, 0.242]],index=['d','q'],columns=pd.MultiIndex.from_product([['default'],[1,2,3]]))\n",
    "gas_param_list = ['a1', 'a2', 'a3', 'a4', 'tau1', 'tau2', 'tau3', 'tau4', 'r0', 'rC', 'rT', 'rA', 'PI_conc', 'emis2conc', 'f1', 'f2', 'f3']\n",
    "gas_parameters = pd.DataFrame(index=gas_param_list,columns=pd.MultiIndex.from_product([[0],[\"CO2\", \"CH4\"]],names=['Scenario','Gas'])).fillna(0).apply(pd.to_numeric)\n",
    "gas_parameters.loc['a1'] = [0.2173, 1]\n",
    "gas_parameters.loc['a2'] = [0.224, 0]\n",
    "gas_parameters.loc['a3'] = [0.2824, 0]\n",
    "gas_parameters.loc['a4'] = [0.2763, 0]\n",
    "gas_parameters.loc['tau1'] = [1000000, 9.150000]\n",
    "gas_parameters.loc['tau2'] = [394.4, 1]\n",
    "gas_parameters.loc['tau3'] = [36.54, 1]\n",
    "gas_parameters.loc['tau4'] = [4.304, 1]\n",
    "gas_parameters.loc['r0'] = [28.627296, 9.078874]\n",
    "gas_parameters.loc['rC'] = [0.019773, 0]\n",
    "gas_parameters.loc['rT'] = [4.334433, 0.000000]\n",
    "gas_parameters.loc['rA'] = [0, -0.287247]\n",
    "gas_parameters.loc['PI_conc'] = [278, 733.822081]\n",
    "gas_parameters.loc['emis2conc'] = [0.468952343952344, 0.351714]\n",
    "gas_parameters.loc['f1'] = [5.754389, 0.061736]\n",
    "gas_parameters.loc['f2'] = [0.001215, -0.000049]\n",
    "gas_parameters.loc['f3'] = [-0.069598, 0.038416]\n",
    "forcing_in = return_empty_forcing(df_to_copy = concentrations_in)\n",
    "forcing_in.index.rename('Year',inplace = True)\n",
    "forcing_in.loc[2020] = -0.256119925\n",
    "forcing_in.loc[2021] = -0.304324144\n",
    "forcing_in.loc[2023] = -0.501633962\n",
    "forcing_in.loc[2027] = -0.904262779\n",
    "forcing_in.loc[2035] = -0.12278275\n",
    "df_out = run_GIR( concentrations_in = concentrations_in, forcing_in = forcing_in , gas_parameters = gas_parameters , thermal_parameters = thermal_parameters, show_run_info = False)"
   ]
  },
  {
   "cell_type": "markdown",
   "metadata": {},
   "source": [
    "### Results\n",
    "The following are the results of the dual gas run:"
   ]
  },
  {
   "cell_type": "code",
   "execution_count": 10,
   "metadata": {},
   "outputs": [
    {
     "name": "stdout",
     "output_type": "stream",
     "text": [
      "E_out:\n",
      "Scenario             0            \n",
      "Thermal set    default            \n",
      "Gas name           CH4         CO2\n",
      "Year                              \n",
      "2020          7.506675  319.828087\n",
      "2021         14.802304   46.772580\n",
      "2023         34.585501   23.786699\n",
      "2027         25.434119   18.280039\n",
      "2035         25.054660   18.201683\n",
      "\n",
      "\n",
      "T_out:\n",
      "Scenario            0\n",
      "Thermal set   default\n",
      "Year                 \n",
      "2020         0.161252\n",
      "2021         0.405665\n",
      "2023         0.514882\n",
      "2027         0.539532\n",
      "2035         0.740753\n",
      "\n",
      "\n",
      "RF_out:\n",
      "Scenario                  0                              \n",
      "Thermal set         default                              \n",
      "Forcing component       CH4       CO2  External     Total\n",
      "Year                                                     \n",
      "2020               0.000000  2.005091 -0.256120  1.748971\n",
      "2021               0.003714  2.035587 -0.304324  1.734976\n",
      "2023               0.012566  2.097619 -0.501634  1.608551\n",
      "2027               0.034339  2.224813 -0.904263  1.354888\n",
      "2035               0.083294  2.483857 -0.122783  2.444368\n",
      "\n",
      "\n",
      "alpha_out:\n",
      "Scenario              0          \n",
      "Thermal set     default          \n",
      "Gas name            CH4       CO2\n",
      "Year                             \n",
      "2020           0.992273  0.125078\n",
      "2021           0.793780  0.156356\n",
      "2023           0.371651  0.178378\n",
      "2027           2.373146  0.184777\n",
      "2035         206.035092  0.180490\n"
     ]
    }
   ],
   "source": [
    "print('E_out:')\n",
    "print(df_out['Emissions'])\n",
    "print('\\n')\n",
    "print('T_out:')\n",
    "print(df_out['T'])\n",
    "print('\\n')\n",
    "print('RF_out:')\n",
    "print(df_out['RF'])\n",
    "print('\\n')\n",
    "print('alpha_out:')\n",
    "print(df_out['alpha'])"
   ]
  },
  {
   "cell_type": "markdown",
   "metadata": {},
   "source": [
    "## Empty Emissions Test\n",
    "The results of this test are for a dual species run with no emissions and no forcing, with 3 thermal boxes and an external forcing. The exemplar species used are CO2 and CH4, but any species could be used."
   ]
  },
  {
   "cell_type": "markdown",
   "metadata": {},
   "source": [
    "### Setup\n",
    "This sets up the scenario to run"
   ]
  },
  {
   "cell_type": "code",
   "execution_count": 12,
   "metadata": {},
   "outputs": [
    {
     "name": "stderr",
     "output_type": "stream",
     "text": [
      "100%|██████████| 4/4 [00:00<00:00, 2403.96 timestep/s]\n"
     ]
    }
   ],
   "source": [
    "concentrations_in = return_empty_emissions(start_year = 2020, end_year = 2024, gases_in = ['CO2', 'CH4'])\n",
    "concentrations_in.index = [2020, 2021, 2023, 2027, 2035]\n",
    "concentrations_in.loc[2020] = [278, 733.822081]\n",
    "concentrations_in.loc[2021] = [278, 733.822081]\n",
    "concentrations_in.loc[2023] = [278, 733.822081]\n",
    "concentrations_in.loc[2027] = [278, 733.822081]\n",
    "concentrations_in.loc[2035] = [278, 733.822081]\n",
    "thermal_parameters = pd.DataFrame([[ 283, 9.88, 0.85],[0.311333, 0.165417, 0.242]],index=['d','q'],columns=pd.MultiIndex.from_product([['default'],[1,2,3]]))\n",
    "gas_param_list = ['a1', 'a2', 'a3', 'a4', 'tau1', 'tau2', 'tau3', 'tau4', 'r0', 'rC', 'rT', 'rA', 'PI_conc', 'emis2conc', 'f1', 'f2', 'f3']\n",
    "gas_parameters = pd.DataFrame(index=gas_param_list,columns=pd.MultiIndex.from_product([[0],[\"CO2\", \"CH4\"]],names=['Scenario','Gas'])).fillna(0).apply(pd.to_numeric)\n",
    "gas_parameters.loc['a1'] = [0.2173, 1]\n",
    "gas_parameters.loc['a2'] = [0.224, 0]\n",
    "gas_parameters.loc['a3'] = [0.2824, 0]\n",
    "gas_parameters.loc['a4'] = [0.2763, 0]\n",
    "gas_parameters.loc['tau1'] = [1000000, 9.150000]\n",
    "gas_parameters.loc['tau2'] = [394.4, 1]\n",
    "gas_parameters.loc['tau3'] = [36.54, 1]\n",
    "gas_parameters.loc['tau4'] = [4.304, 1]\n",
    "gas_parameters.loc['r0'] = [28.627296, 9.078874]\n",
    "gas_parameters.loc['rC'] = [0.019773, 0]\n",
    "gas_parameters.loc['rT'] = [4.334433, 0.000000]\n",
    "gas_parameters.loc['rA'] = [0, -0.287247]\n",
    "gas_parameters.loc['PI_conc'] = [278, 733.822081]\n",
    "gas_parameters.loc['emis2conc'] = [0.468952343952344, 0.351714]\n",
    "gas_parameters.loc['f1'] = [5.754389, 0.061736]\n",
    "gas_parameters.loc['f2'] = [0.001215, -0.000049]\n",
    "gas_parameters.loc['f3'] = [-0.069598, 0.038416]\n",
    "forcing_in = return_empty_forcing(df_to_copy = concentrations_in)\n",
    "forcing_in.index.rename('Year',inplace = True)\n",
    "forcing_in.loc[2020] = 0\n",
    "forcing_in.loc[2021] = 0\n",
    "forcing_in.loc[2023] = 0\n",
    "forcing_in.loc[2027] = 0\n",
    "forcing_in.loc[2035] = 0\n",
    "df_out = run_GIR( concentrations_in = concentrations_in, forcing_in = forcing_in , gas_parameters = gas_parameters , thermal_parameters = thermal_parameters, show_run_info = False)"
   ]
  },
  {
   "cell_type": "markdown",
   "metadata": {},
   "source": [
    "### Results\n",
    "The following are the results of the dual gas run with no emissions and no forcing:"
   ]
  },
  {
   "cell_type": "code",
   "execution_count": 13,
   "metadata": {},
   "outputs": [
    {
     "name": "stdout",
     "output_type": "stream",
     "text": [
      "E_out:\n",
      "Scenario                0     \n",
      "Thermal set       default     \n",
      "Gas name              CH4  CO2\n",
      "Year                          \n",
      "2020         0.000000e+00  0.0\n",
      "2021        -1.800721e-13  0.0\n",
      "2023        -3.560150e-14  0.0\n",
      "2027        -3.560150e-14  0.0\n",
      "2035        -3.560150e-14  0.0\n",
      "\n",
      "\n",
      "T_out:\n",
      "Scenario          0\n",
      "Thermal set default\n",
      "Year               \n",
      "2020            0.0\n",
      "2021            0.0\n",
      "2023            0.0\n",
      "2027            0.0\n",
      "2035            0.0\n",
      "\n",
      "\n",
      "RF_out:\n",
      "Scenario                0                    \n",
      "Thermal set       default                    \n",
      "Forcing component     CH4  CO2 External Total\n",
      "Year                                         \n",
      "2020                  0.0  0.0      0.0   0.0\n",
      "2021                  0.0  0.0      0.0   0.0\n",
      "2023                  0.0  0.0      0.0   0.0\n",
      "2027                  0.0  0.0      0.0   0.0\n",
      "2035                  0.0  0.0      0.0   0.0\n",
      "\n",
      "\n",
      "alpha_out:\n",
      "Scenario            0          \n",
      "Thermal set   default          \n",
      "Gas name          CH4       CO2\n",
      "Year                           \n",
      "2020         0.992273  0.125078\n",
      "2021         0.992273  0.125078\n",
      "2023         0.992273  0.125078\n",
      "2027         0.992273  0.125078\n",
      "2035         0.992273  0.125078\n"
     ]
    }
   ],
   "source": [
    "print('E_out:')\n",
    "print(df_out['Emissions'])\n",
    "print('\\n')\n",
    "print('T_out:')\n",
    "print(df_out['T'])\n",
    "print('\\n')\n",
    "print('RF_out:')\n",
    "print(df_out['RF'])\n",
    "print('\\n')\n",
    "print('alpha_out:')\n",
    "print(df_out['alpha'])"
   ]
  },
  {
   "cell_type": "code",
   "execution_count": null,
   "metadata": {},
   "outputs": [],
   "source": []
  }
 ],
 "metadata": {
  "kernelspec": {
   "display_name": "Python 3",
   "language": "python",
   "name": "python3"
  },
  "language_info": {
   "codemirror_mode": {
    "name": "ipython",
    "version": 3
   },
   "file_extension": ".py",
   "mimetype": "text/x-python",
   "name": "python",
   "nbconvert_exporter": "python",
   "pygments_lexer": "ipython3",
   "version": "3.7.4"
  }
 },
 "nbformat": 4,
 "nbformat_minor": 4
}
