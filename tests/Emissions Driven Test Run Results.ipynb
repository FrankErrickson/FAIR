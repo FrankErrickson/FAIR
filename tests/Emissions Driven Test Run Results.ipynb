{
 "cells": [
  {
   "cell_type": "markdown",
   "metadata": {},
   "source": [
    "# Test Solution Notebook\n",
    "The following Jupyter Notebook calculates the 'answers' that should be seen for the tests for FaIR 2.0 (specifically the numpy functions that run beneath the runners), it uses the GIR software previously developed by Nick Leach and Stewart Jenkins."
   ]
  },
  {
   "cell_type": "markdown",
   "metadata": {},
   "source": [
    "## Setup\n",
    "The following dependencies are required"
   ]
  },
  {
   "cell_type": "code",
   "execution_count": 10,
   "metadata": {},
   "outputs": [],
   "source": [
    "import numpy as np\n",
    "import string\n",
    "import math\n",
    "import sys\n",
    "import pandas as pd\n",
    "import matplotlib.pyplot as plt\n",
    "import matplotlib\n",
    "import seaborn as sn\n",
    "from GIR import *\n",
    "import scipy as sp\n",
    "import pickle\n",
    "import time\n",
    "import scipy as sp"
   ]
  },
  {
   "cell_type": "markdown",
   "metadata": {},
   "source": [
    "## Single Species Test\n",
    "The results of this test are for a single species, with 3 thermal boxes and an external forcing. The exemplar species used is CO2, but any species could be used."
   ]
  },
  {
   "cell_type": "markdown",
   "metadata": {},
   "source": [
    "### Setup\n",
    "This sets up the scenario to run"
   ]
  },
  {
   "cell_type": "code",
   "execution_count": 11,
   "metadata": {},
   "outputs": [
    {
     "name": "stderr",
     "output_type": "stream",
     "text": [
      "100%|██████████| 4/4 [00:00<00:00, 1702.75 timestep/s]\n"
     ]
    }
   ],
   "source": [
    "emissions_in = return_empty_emissions(start_year = 2020, end_year = 2024, gases_in = ['CO2'])\n",
    "emissions_in.index = [2020, 2021, 2023, 2027, 2035]\n",
    "emissions_in.loc[2020] = 3.00000000e+00\n",
    "emissions_in.loc[2021] = 1.63829600e+01\n",
    "emissions_in.loc[2023] = 6.36765930e+01\n",
    "emissions_in.loc[2027] = 1.80148890e+02\n",
    "emissions_in.loc[2035] = 2.43531850e+01\n",
    "thermal_parameters = pd.DataFrame([[ 283, 9.88, 0.85],[0.311333, 0.165417, 0.242]],index=['d','q'],columns=pd.MultiIndex.from_product([['default'],[1,2,3]]))\n",
    "gas_param_list = ['a1', 'a2', 'a3', 'a4', 'tau1', 'tau2', 'tau3', 'tau4', 'r0', 'rC', 'rT', 'rA', 'PI_conc', 'emis2conc', 'f1', 'f2', 'f3']\n",
    "gas_parameters = pd.DataFrame(index=gas_param_list,columns=pd.MultiIndex.from_product([[0],[\"CO2\"]],names=['Scenario','Gas'])).fillna(0).apply(pd.to_numeric)\n",
    "gas_parameters.loc['a1'] = 0.2173\n",
    "gas_parameters.loc['a2'] = 0.224\n",
    "gas_parameters.loc['a3'] = 0.2824\n",
    "gas_parameters.loc['a4'] = 0.2763\n",
    "gas_parameters.loc['tau1'] = 1000000\n",
    "gas_parameters.loc['tau2'] = 394.4\n",
    "gas_parameters.loc['tau3'] = 36.54\n",
    "gas_parameters.loc['tau4'] = 4.304\n",
    "gas_parameters.loc['r0'] = 28.627296\n",
    "gas_parameters.loc['rC'] = 0.019773\n",
    "gas_parameters.loc['rT'] = 4.334433\n",
    "gas_parameters.loc['rA'] = 0\n",
    "gas_parameters.loc['PI_conc'] = 278\n",
    "gas_parameters.loc['emis2conc'] = 0.468952343952344\n",
    "gas_parameters.loc['f1'] = 5.754389\n",
    "gas_parameters.loc['f2'] = 0.001215\n",
    "gas_parameters.loc['f3'] = -0.069598\n",
    "forcing_in = return_empty_forcing(df_to_copy = emissions_in)\n",
    "forcing_in.index.rename('Year',inplace = True)\n",
    "forcing_in.loc[2020] = -0.256119925\n",
    "forcing_in.loc[2021] = -0.304324144\n",
    "forcing_in.loc[2023] = -0.501633962\n",
    "forcing_in.loc[2027] = -0.904262779\n",
    "forcing_in.loc[2035] = -0.12278275\n",
    "df_out = run_GIR( emissions_in = emissions_in, forcing_in = forcing_in , gas_parameters = gas_parameters , thermal_parameters = thermal_parameters, show_run_info = False)"
   ]
  },
  {
   "cell_type": "markdown",
   "metadata": {},
   "source": [
    "### Results\n",
    "The following are the results of the single gas run:"
   ]
  },
  {
   "cell_type": "code",
   "execution_count": 12,
   "metadata": {},
   "outputs": [
    {
     "name": "stdout",
     "output_type": "stream",
     "text": [
      "C_out:\n",
      "Scenario              0\n",
      "Thermal set     default\n",
      "Gas name            CO2\n",
      "Year                   \n",
      "2020         278.575556\n",
      "2021         284.650637\n",
      "2023         327.415460\n",
      "2027         539.092185\n",
      "2035         663.849687\n",
      "\n",
      "\n",
      "T_out:\n",
      "Scenario            0\n",
      "Thermal set   default\n",
      "Year                 \n",
      "2020        -0.022563\n",
      "2021        -0.048115\n",
      "2023         0.031111\n",
      "2027         0.534905\n",
      "2035         1.357223\n",
      "\n",
      "\n",
      "RF_out:\n",
      "Scenario                  0                    \n",
      "Thermal set         default                    \n",
      "Forcing component       CO2  External     Total\n",
      "Year                                           \n",
      "2020               0.011400 -0.256120 -0.244720\n",
      "2021               0.130324 -0.304324 -0.174000\n",
      "2023               0.902589 -0.501634  0.400955\n",
      "2027               3.672639 -0.904263  2.768377\n",
      "2035               4.844845 -0.122783  4.722063\n",
      "\n",
      "\n",
      "alpha_out:\n",
      "Scenario            0\n",
      "Thermal set   default\n",
      "Gas name          CO2\n",
      "Year                 \n",
      "2020         0.125078\n",
      "2021         0.123069\n",
      "2023         0.121295\n",
      "2027         0.109470\n",
      "2035         0.056788\n"
     ]
    }
   ],
   "source": [
    "print('C_out:')\n",
    "print(df_out['C'])\n",
    "print('\\n')\n",
    "print('T_out:')\n",
    "print(df_out['T'])\n",
    "print('\\n')\n",
    "print('RF_out:')\n",
    "print(df_out['RF'])\n",
    "print('\\n')\n",
    "print('alpha_out:')\n",
    "print(df_out['alpha'])"
   ]
  },
  {
   "cell_type": "markdown",
   "metadata": {},
   "source": [
    "## Dual Species Test\n",
    "The results of this test are for a dual species run, with 3 thermal boxes and an external forcing. The exemplar species used are CO2 and CH4, but any species could be used."
   ]
  },
  {
   "cell_type": "markdown",
   "metadata": {},
   "source": [
    "### Setup\n",
    "This sets up the scenario to run"
   ]
  },
  {
   "cell_type": "code",
   "execution_count": 13,
   "metadata": {},
   "outputs": [
    {
     "name": "stderr",
     "output_type": "stream",
     "text": [
      "100%|██████████| 4/4 [00:00<00:00, 2217.16 timestep/s]\n"
     ]
    }
   ],
   "source": [
    "emissions_in = return_empty_emissions(start_year = 2020, end_year = 2024, gases_in = ['CO2', 'CH4'])\n",
    "emissions_in.index = [2020, 2021, 2023, 2027, 2035]\n",
    "emissions_in.loc[2020] = [3.00000000e+00, 2.1486753e+02]\n",
    "emissions_in.loc[2021] = [1.63829600e+01, 4.4001902e+02]\n",
    "emissions_in.loc[2023] = [6.36765930e+01, 1.70017052e+03]\n",
    "emissions_in.loc[2027] = [1.80148890e+02, 3.50032202e+03]\n",
    "emissions_in.loc[2035] = [2.43531850e+01, 2.3547352e+02]\n",
    "thermal_parameters = pd.DataFrame([[ 283, 9.88, 0.85],[0.311333, 0.165417, 0.242]],index=['d','q'],columns=pd.MultiIndex.from_product([['default'],[1,2,3]]))\n",
    "gas_param_list = ['a1', 'a2', 'a3', 'a4', 'tau1', 'tau2', 'tau3', 'tau4', 'r0', 'rC', 'rT', 'rA', 'PI_conc', 'emis2conc', 'f1', 'f2', 'f3']\n",
    "gas_parameters = pd.DataFrame(index=gas_param_list,columns=pd.MultiIndex.from_product([[0],[\"CO2\", \"CH4\"]],names=['Scenario','Gas'])).fillna(0).apply(pd.to_numeric)\n",
    "gas_parameters.loc['a1'] = [0.2173, 1]\n",
    "gas_parameters.loc['a2'] = [0.224, 0]\n",
    "gas_parameters.loc['a3'] = [0.2824, 0]\n",
    "gas_parameters.loc['a4'] = [0.2763, 0]\n",
    "gas_parameters.loc['tau1'] = [1000000, 9.150000]\n",
    "gas_parameters.loc['tau2'] = [394.4, 1]\n",
    "gas_parameters.loc['tau3'] = [36.54, 1]\n",
    "gas_parameters.loc['tau4'] = [4.304, 1]\n",
    "gas_parameters.loc['r0'] = [28.627296, 9.078874]\n",
    "gas_parameters.loc['rC'] = [0.019773, 0]\n",
    "gas_parameters.loc['rT'] = [4.334433, 0.000000]\n",
    "gas_parameters.loc['rA'] = [0, -0.287247]\n",
    "gas_parameters.loc['PI_conc'] = [278, 733.822081]\n",
    "gas_parameters.loc['emis2conc'] = [0.468952343952344, 0.351714]\n",
    "gas_parameters.loc['f1'] = [5.754389, 0.061736]\n",
    "gas_parameters.loc['f2'] = [0.001215, -0.000049]\n",
    "gas_parameters.loc['f3'] = [-0.069598, 0.038416]\n",
    "forcing_in = return_empty_forcing(df_to_copy = emissions_in)\n",
    "forcing_in.index.rename('Year',inplace = True)\n",
    "forcing_in.loc[2020] = -0.256119925\n",
    "forcing_in.loc[2021] = -0.304324144\n",
    "forcing_in.loc[2023] = -0.501633962\n",
    "forcing_in.loc[2027] = -0.904262779\n",
    "forcing_in.loc[2035] = -0.12278275\n",
    "df_out = run_GIR( emissions_in = emissions_in, forcing_in = forcing_in , gas_parameters = gas_parameters , thermal_parameters = thermal_parameters, show_run_info = False)"
   ]
  },
  {
   "cell_type": "markdown",
   "metadata": {},
   "source": [
    "### Results\n",
    "The following are the results of the dual gas run:"
   ]
  },
  {
   "cell_type": "code",
   "execution_count": 14,
   "metadata": {},
   "outputs": [
    {
     "name": "stdout",
     "output_type": "stream",
     "text": [
      "C_out:\n",
      "Scenario               0            \n",
      "Thermal set      default            \n",
      "Gas name             CH4         CO2\n",
      "Year                                \n",
      "2020          769.601493  278.575556\n",
      "2021          959.837150  284.652403\n",
      "2023         2306.701551  327.534824\n",
      "2027         3499.109708  543.411648\n",
      "2035         3499.109708  672.682666\n",
      "\n",
      "\n",
      "T_out:\n",
      "Scenario            0\n",
      "Thermal set   default\n",
      "Year                 \n",
      "2020        -0.020142\n",
      "2021        -0.025803\n",
      "2023         0.172729\n",
      "2027         0.880953\n",
      "2035         1.835630\n",
      "\n",
      "\n",
      "RF_out:\n",
      "Scenario                  0                              \n",
      "Thermal set         default                              \n",
      "Forcing component       CH4       CO2  External     Total\n",
      "Year                                                     \n",
      "2020               0.026254  0.011400 -0.256120 -0.218466\n",
      "2021               0.155020  0.130358 -0.304324 -0.018946\n",
      "2023               0.798028  0.904602 -0.501634  1.200996\n",
      "2027               1.192708  3.717350 -0.904263  4.005795\n",
      "2035               1.192708  4.919748 -0.122783  5.989673\n",
      "\n",
      "\n",
      "alpha_out:\n",
      "Scenario                 0          \n",
      "Thermal set        default          \n",
      "Gas name               CH4       CO2\n",
      "Year                                \n",
      "2020          9.922729e-01  0.125078\n",
      "2021          8.111710e+01  0.123296\n",
      "2023          7.697883e+13  0.123140\n",
      "2027         2.245283e+106  0.119969\n",
      "2035         2.245283e+106  0.065278\n"
     ]
    }
   ],
   "source": [
    "print('C_out:')\n",
    "print(df_out['C'])\n",
    "print('\\n')\n",
    "print('T_out:')\n",
    "print(df_out['T'])\n",
    "print('\\n')\n",
    "print('RF_out:')\n",
    "print(df_out['RF'])\n",
    "print('\\n')\n",
    "print('alpha_out:')\n",
    "print(df_out['alpha'])"
   ]
  },
  {
   "cell_type": "markdown",
   "metadata": {},
   "source": [
    "## Empty Emissions Test\n",
    "The results of this test are for a dual species run with no emissions and no forcing, with 3 thermal boxes and an external forcing. The exemplar species used are CO2 and CH4, but any species could be used."
   ]
  },
  {
   "cell_type": "markdown",
   "metadata": {},
   "source": [
    "### Setup\n",
    "This sets up the scenario to run"
   ]
  },
  {
   "cell_type": "code",
   "execution_count": 15,
   "metadata": {},
   "outputs": [
    {
     "name": "stderr",
     "output_type": "stream",
     "text": [
      "100%|██████████| 4/4 [00:00<00:00, 2251.07 timestep/s]\n"
     ]
    }
   ],
   "source": [
    "emissions_in = return_empty_emissions(start_year = 2020, end_year = 2024, gases_in = ['CO2', 'CH4'])\n",
    "emissions_in.index = [2020, 2021, 2023, 2027, 2035]\n",
    "thermal_parameters = pd.DataFrame([[ 283, 9.88, 0.85],[0.311333, 0.165417, 0.242]],index=['d','q'],columns=pd.MultiIndex.from_product([['default'],[1,2,3]]))\n",
    "gas_param_list = ['a1', 'a2', 'a3', 'a4', 'tau1', 'tau2', 'tau3', 'tau4', 'r0', 'rC', 'rT', 'rA', 'PI_conc', 'emis2conc', 'f1', 'f2', 'f3']\n",
    "gas_parameters = pd.DataFrame(index=gas_param_list,columns=pd.MultiIndex.from_product([[0],[\"CO2\", \"CH4\"]],names=['Scenario','Gas'])).fillna(0).apply(pd.to_numeric)\n",
    "gas_parameters.loc['a1'] = [0.2173, 1]\n",
    "gas_parameters.loc['a2'] = [0.224, 0]\n",
    "gas_parameters.loc['a3'] = [0.2824, 0]\n",
    "gas_parameters.loc['a4'] = [0.2763, 0]\n",
    "gas_parameters.loc['tau1'] = [1000000, 9.150000]\n",
    "gas_parameters.loc['tau2'] = [394.4, 1]\n",
    "gas_parameters.loc['tau3'] = [36.54, 1]\n",
    "gas_parameters.loc['tau4'] = [4.304, 1]\n",
    "gas_parameters.loc['r0'] = [28.627296, 9.078874]\n",
    "gas_parameters.loc['rC'] = [0.019773, 0]\n",
    "gas_parameters.loc['rT'] = [4.334433, 0.000000]\n",
    "gas_parameters.loc['rA'] = [0, -0.287247]\n",
    "gas_parameters.loc['PI_conc'] = [278, 733.822081]\n",
    "gas_parameters.loc['emis2conc'] = [0.468952343952344, 0.351714]\n",
    "gas_parameters.loc['f1'] = [5.754389, 0.061736]\n",
    "gas_parameters.loc['f2'] = [0.001215, -0.000049]\n",
    "gas_parameters.loc['f3'] = [-0.069598, 0.038416]\n",
    "forcing_in = return_empty_forcing(df_to_copy = emissions_in)\n",
    "forcing_in.index.rename('Year',inplace = True)\n",
    "forcing_in.loc[2020] = 0\n",
    "forcing_in.loc[2021] = 0\n",
    "forcing_in.loc[2023] = 0\n",
    "forcing_in.loc[2027] = 0\n",
    "forcing_in.loc[2035] = 0\n",
    "df_out = run_GIR( emissions_in = emissions_in, forcing_in = forcing_in , gas_parameters = gas_parameters , thermal_parameters = thermal_parameters, show_run_info = False)"
   ]
  },
  {
   "cell_type": "markdown",
   "metadata": {},
   "source": [
    "### Results\n",
    "The following are the results of the dual gas run with no emissions and no forcing:"
   ]
  },
  {
   "cell_type": "code",
   "execution_count": 16,
   "metadata": {},
   "outputs": [
    {
     "name": "stdout",
     "output_type": "stream",
     "text": [
      "C_out:\n",
      "Scenario              0       \n",
      "Thermal set     default       \n",
      "Gas name            CH4    CO2\n",
      "Year                          \n",
      "2020         733.822081  278.0\n",
      "2021         733.822081  278.0\n",
      "2023         733.822081  278.0\n",
      "2027         733.822081  278.0\n",
      "2035         733.822081  278.0\n",
      "\n",
      "\n",
      "T_out:\n",
      "Scenario          0\n",
      "Thermal set default\n",
      "Year               \n",
      "2020            0.0\n",
      "2021            0.0\n",
      "2023            0.0\n",
      "2027            0.0\n",
      "2035            0.0\n",
      "\n",
      "\n",
      "RF_out:\n",
      "Scenario                0                    \n",
      "Thermal set       default                    \n",
      "Forcing component     CH4  CO2 External Total\n",
      "Year                                         \n",
      "2020                  0.0  0.0      0.0   0.0\n",
      "2021                  0.0  0.0      0.0   0.0\n",
      "2023                  0.0  0.0      0.0   0.0\n",
      "2027                  0.0  0.0      0.0   0.0\n",
      "2035                  0.0  0.0      0.0   0.0\n",
      "\n",
      "\n",
      "alpha_out:\n",
      "Scenario            0          \n",
      "Thermal set   default          \n",
      "Gas name          CH4       CO2\n",
      "Year                           \n",
      "2020         0.992273  0.125078\n",
      "2021         0.992273  0.125078\n",
      "2023         0.992273  0.125078\n",
      "2027         0.992273  0.125078\n",
      "2035         0.992273  0.125078\n"
     ]
    }
   ],
   "source": [
    "print('C_out:')\n",
    "print(df_out['C'])\n",
    "print('\\n')\n",
    "print('T_out:')\n",
    "print(df_out['T'])\n",
    "print('\\n')\n",
    "print('RF_out:')\n",
    "print(df_out['RF'])\n",
    "print('\\n')\n",
    "print('alpha_out:')\n",
    "print(df_out['alpha'])"
   ]
  },
  {
   "cell_type": "markdown",
   "metadata": {},
   "source": [
    "## Dual Forcing Test\n",
    "The results of this test are for a dual forcing run, with 3 thermal boxes and an external forcing. The example used is CO2 and CO2 with slightly different forcing params"
   ]
  },
  {
   "cell_type": "markdown",
   "metadata": {},
   "source": [
    "### Setup\n",
    "This sets up the scenario to run"
   ]
  },
  {
   "cell_type": "code",
   "execution_count": 17,
   "metadata": {},
   "outputs": [
    {
     "name": "stderr",
     "output_type": "stream",
     "text": [
      "100%|██████████| 4/4 [00:00<00:00, 2424.45 timestep/s]\n"
     ]
    }
   ],
   "source": [
    "emissions_in = return_empty_emissions(start_year = 2020, end_year = 2024, gases_in = ['CO2', 'CH4'])\n",
    "emissions_in.index = [2020, 2021, 2023, 2027, 2035]\n",
    "emissions_in.loc[2020] = [3.00000000e+00, 2.1486753e+02]\n",
    "emissions_in.loc[2021] = [1.63829600e+01, 4.4001902e+02]\n",
    "emissions_in.loc[2023] = [6.36765930e+01, 1.70017052e+03]\n",
    "emissions_in.loc[2027] = [1.80148890e+02, 3.50032202e+03]\n",
    "emissions_in.loc[2035] = [2.43531850e+01, 2.3547352e+02]\n",
    "thermal_parameters = pd.DataFrame([[ 283, 9.88, 0.85],[0.311333, 0.165417, 0.242]],index=['d','q'],columns=pd.MultiIndex.from_product([['default'],[1,2,3]]))\n",
    "gas_param_list = ['a1', 'a2', 'a3', 'a4', 'tau1', 'tau2', 'tau3', 'tau4', 'r0', 'rC', 'rT', 'rA', 'PI_conc', 'emis2conc', 'f1', 'f2', 'f3']\n",
    "gas_parameters = pd.DataFrame(index=gas_param_list,columns=pd.MultiIndex.from_product([[0],[\"CO2\", \"CO2|Secondary Forcing\"]],names=['Scenario','Gas'])).fillna(0).apply(pd.to_numeric)\n",
    "gas_parameters.loc['a1'] = [0.2173, 0]\n",
    "gas_parameters.loc['a2'] = [0.224, 0]\n",
    "gas_parameters.loc['a3'] = [0.2824, 0]\n",
    "gas_parameters.loc['a4'] = [0.2763, 0]\n",
    "gas_parameters.loc['tau1'] = [1000000, 0]\n",
    "gas_parameters.loc['tau2'] = [394.4, 0]\n",
    "gas_parameters.loc['tau3'] = [36.54, 0]\n",
    "gas_parameters.loc['tau4'] = [4.304, 0]\n",
    "gas_parameters.loc['r0'] = [28.627296, 0]\n",
    "gas_parameters.loc['rC'] = [0.019773, 0]\n",
    "gas_parameters.loc['rT'] = [4.334433, 0]\n",
    "gas_parameters.loc['rA'] = [0, 0]\n",
    "gas_parameters.loc['PI_conc'] = [278, 0]\n",
    "gas_parameters.loc['emis2conc'] = [0.468952343952344, 0]\n",
    "gas_parameters.loc['f1'] = [5.754389, 7.754389]\n",
    "gas_parameters.loc['f2'] = [0.001215, 0.000215]\n",
    "gas_parameters.loc['f3'] = [-0.069598, -0.169598]\n",
    "forcing_in = return_empty_forcing(df_to_copy = emissions_in)\n",
    "forcing_in.index.rename('Year',inplace = True)\n",
    "forcing_in.loc[2020] = -0.256119925\n",
    "forcing_in.loc[2021] = -0.304324144\n",
    "forcing_in.loc[2023] = -0.501633962\n",
    "forcing_in.loc[2027] = -0.904262779\n",
    "forcing_in.loc[2035] = -0.12278275\n",
    "df_out = run_GIR( emissions_in = emissions_in, forcing_in = forcing_in , gas_parameters = gas_parameters , thermal_parameters = thermal_parameters, show_run_info = False)"
   ]
  },
  {
   "cell_type": "markdown",
   "metadata": {},
   "source": [
    "### Results\n",
    "The following are the results of the dual forcing run:"
   ]
  },
  {
   "cell_type": "code",
   "execution_count": 18,
   "metadata": {},
   "outputs": [
    {
     "name": "stdout",
     "output_type": "stream",
     "text": [
      "C_out:\n",
      "Scenario              0\n",
      "Thermal set     default\n",
      "Gas name            CO2\n",
      "Year                   \n",
      "2020         278.575556\n",
      "2021         284.651528\n",
      "2023         327.529777\n",
      "2027         544.666903\n",
      "2035         685.352356\n",
      "\n",
      "\n",
      "T_out:\n",
      "Scenario            0\n",
      "Thermal set   default\n",
      "Year                 \n",
      "2020        -0.021343\n",
      "2021        -0.027687\n",
      "2023         0.208194\n",
      "2027         1.427809\n",
      "2035         3.172096\n",
      "\n",
      "\n",
      "RF_out:\n",
      "Scenario                  0                                           \n",
      "Thermal set         default                                           \n",
      "Forcing component       CO2 CO2|Secondary Forcing  External      Total\n",
      "Year                                                                  \n",
      "2020               0.011400              0.013236 -0.256120  -0.231484\n",
      "2021               0.130342              0.151150 -0.304324  -0.022832\n",
      "2023               0.904517              1.040458 -0.501634   1.443341\n",
      "2027               3.730279              4.142242 -0.904263   6.968258\n",
      "2035               5.025595              5.472277 -0.122783  10.375089\n",
      "\n",
      "\n",
      "alpha_out:\n",
      "Scenario            0\n",
      "Thermal set   default\n",
      "Gas name          CO2\n",
      "Year                 \n",
      "2020         0.125078\n",
      "2021         0.123183\n",
      "2023         0.123077\n",
      "2027         0.123313\n",
      "2035         0.095320\n"
     ]
    }
   ],
   "source": [
    "print('C_out:')\n",
    "print(df_out['C'])\n",
    "print('\\n')\n",
    "print('T_out:')\n",
    "print(df_out['T'])\n",
    "print('\\n')\n",
    "print('RF_out:')\n",
    "print(df_out['RF'])\n",
    "print('\\n')\n",
    "print('alpha_out:')\n",
    "print(df_out['alpha'])"
   ]
  },
  {
   "cell_type": "code",
   "execution_count": null,
   "metadata": {},
   "outputs": [],
   "source": []
  }
 ],
 "metadata": {
  "kernelspec": {
   "display_name": "Python 3",
   "language": "python",
   "name": "python3"
  },
  "language_info": {
   "codemirror_mode": {
    "name": "ipython",
    "version": 3
   },
   "file_extension": ".py",
   "mimetype": "text/x-python",
   "name": "python",
   "nbconvert_exporter": "python",
   "pygments_lexer": "ipython3",
   "version": "3.8.3"
  }
 },
 "nbformat": 4,
 "nbformat_minor": 4
}
